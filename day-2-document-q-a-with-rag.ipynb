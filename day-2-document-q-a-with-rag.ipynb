{
 "cells": [
  {
   "cell_type": "markdown",
   "id": "f9364292",
   "metadata": {
    "id": "Tce3stUlHN0L",
    "papermill": {
     "duration": 0.007338,
     "end_time": "2024-11-12T14:32:56.025324",
     "exception": false,
     "start_time": "2024-11-12T14:32:56.017986",
     "status": "completed"
    },
    "tags": []
   },
   "source": [
    "##### Copyright 2024 Google LLC."
   ]
  },
  {
   "cell_type": "code",
   "execution_count": 1,
   "id": "8346399d",
   "metadata": {
    "cellView": "form",
    "execution": {
     "iopub.execute_input": "2024-11-12T14:32:56.040042Z",
     "iopub.status.busy": "2024-11-12T14:32:56.039731Z",
     "iopub.status.idle": "2024-11-12T14:32:56.044709Z",
     "shell.execute_reply": "2024-11-12T14:32:56.043836Z"
    },
    "id": "tuOe1ymfHZPu",
    "papermill": {
     "duration": 0.01452,
     "end_time": "2024-11-12T14:32:56.046938",
     "exception": false,
     "start_time": "2024-11-12T14:32:56.032418",
     "status": "completed"
    },
    "tags": []
   },
   "outputs": [],
   "source": [
    "# @title Licensed under the Apache License, Version 2.0 (the \"License\");\n",
    "# you may not use this file except in compliance with the License.\n",
    "# You may obtain a copy of the License at\n",
    "#\n",
    "# https://www.apache.org/licenses/LICENSE-2.0\n",
    "#\n",
    "# Unless required by applicable law or agreed to in writing, software\n",
    "# distributed under the License is distributed on an \"AS IS\" BASIS,\n",
    "# WITHOUT WARRANTIES OR CONDITIONS OF ANY KIND, either express or implied.\n",
    "# See the License for the specific language governing permissions and\n",
    "# limitations under the License."
   ]
  },
  {
   "cell_type": "markdown",
   "id": "201973be",
   "metadata": {
    "id": "CsVPnR8VbXE6",
    "papermill": {
     "duration": 0.006447,
     "end_time": "2024-11-12T14:32:56.060114",
     "exception": false,
     "start_time": "2024-11-12T14:32:56.053667",
     "status": "completed"
    },
    "tags": []
   },
   "source": [
    "# Day 2 - Document Q&A with RAG using Chroma\n",
    "\n",
    "Welcome back to the Kaggle 5-day Generative AI course!\n",
    "\n",
    "**NOTE**: The Day 1 notebook contains lots of information for getting set up with Kaggle Notebooks. If you are having any issues, please [check out the troubleshooting steps there](https://www.kaggle.com/code/markishere/day-1-prompting#Get-started-with-Kaggle-notebooks).\n",
    "\n",
    "Two big limitations of LLMs are 1) that they only \"know\" the information that they were trained on, and 2) that they have limited input context windows. A way to address both of these limitations is to use a technique called Retrieval Augmented Generation, or RAG. A RAG system has three stages:\n",
    "\n",
    "1. Indexing\n",
    "2. Retrieval\n",
    "3. Generation\n",
    "\n",
    "Indexing happens ahead of time, and allows you to quickly look up relevant information at query-time. When a query comes in, you retrieve relevant documents, combine them with your instructions and the user's query, and have the LLM generate a tailored answer in natural language using the supplied information. This allows you to provide information that the model hasn't seen before, such as product-specific knowledge or live weather updates.\n",
    "\n",
    "In this notebook you will use the Gemini API to create a vector database, retrieve answers to questions from the database and generate a final answer. You will use [Chroma](https://docs.trychroma.com/), an open-source vector database. With Chroma, you can store embeddings alongside metadata, embed documents and queries, and search your documents.\n",
    "\n",
    "## For help\n",
    "\n",
    "**Common issues are covered in the [FAQ and troubleshooting guide](https://www.kaggle.com/code/markishere/day-0-troubleshooting-and-faqs).**\n"
   ]
  },
  {
   "cell_type": "markdown",
   "id": "43bf6b46",
   "metadata": {
    "id": "akuOzK4dJl3j",
    "papermill": {
     "duration": 0.007297,
     "end_time": "2024-11-12T14:32:56.073904",
     "exception": false,
     "start_time": "2024-11-12T14:32:56.066607",
     "status": "completed"
    },
    "tags": []
   },
   "source": [
    "## Setup\n",
    "\n",
    "First, install ChromaDB and the Gemini API Python SDK."
   ]
  },
  {
   "cell_type": "code",
   "execution_count": 2,
   "id": "dfab7514",
   "metadata": {
    "execution": {
     "iopub.execute_input": "2024-11-12T14:32:56.087839Z",
     "iopub.status.busy": "2024-11-12T14:32:56.087544Z",
     "iopub.status.idle": "2024-11-12T14:34:07.867761Z",
     "shell.execute_reply": "2024-11-12T14:34:07.866476Z"
    },
    "id": "JbXe7Oodc5dP",
    "papermill": {
     "duration": 71.789924,
     "end_time": "2024-11-12T14:34:07.870135",
     "exception": false,
     "start_time": "2024-11-12T14:32:56.080211",
     "status": "completed"
    },
    "tags": []
   },
   "outputs": [
    {
     "name": "stdout",
     "output_type": "stream",
     "text": [
      "\u001b[31mERROR: pip's dependency resolver does not currently take into account all the packages that are installed. This behaviour is the source of the following dependency conflicts.\r\n",
      "kfp 2.5.0 requires google-cloud-storage<3,>=2.2.1, but you have google-cloud-storage 1.44.0 which is incompatible.\r\n",
      "kfp 2.5.0 requires kubernetes<27,>=8.0.0, but you have kubernetes 31.0.0 which is incompatible.\u001b[0m\u001b[31m\r\n",
      "\u001b[0mNote: you may need to restart the kernel to use updated packages.\n"
     ]
    }
   ],
   "source": [
    "%pip install -U -q \"google-generativeai>=0.8.3\" chromadb"
   ]
  },
  {
   "cell_type": "markdown",
   "id": "bf387e7b",
   "metadata": {
    "papermill": {
     "duration": 0.006913,
     "end_time": "2024-11-12T14:34:07.884167",
     "exception": false,
     "start_time": "2024-11-12T14:34:07.877254",
     "status": "completed"
    },
    "tags": []
   },
   "source": [
    "You may see output containing `ERROR: pip's dependency resolver does not currently take into account all the packages that are installed` - this is OK, the packages are still installed and compatible for this codelab. Also note that you do not have to restart the kernel."
   ]
  },
  {
   "cell_type": "code",
   "execution_count": 3,
   "id": "b960956f",
   "metadata": {
    "execution": {
     "iopub.execute_input": "2024-11-12T14:34:07.900195Z",
     "iopub.status.busy": "2024-11-12T14:34:07.899772Z",
     "iopub.status.idle": "2024-11-12T14:34:09.374502Z",
     "shell.execute_reply": "2024-11-12T14:34:09.373738Z"
    },
    "id": "muuhsDmmKdHi",
    "papermill": {
     "duration": 1.485629,
     "end_time": "2024-11-12T14:34:09.376819",
     "exception": false,
     "start_time": "2024-11-12T14:34:07.891190",
     "status": "completed"
    },
    "tags": []
   },
   "outputs": [],
   "source": [
    "import google.generativeai as genai\n",
    "from IPython.display import Markdown"
   ]
  },
  {
   "cell_type": "markdown",
   "id": "90d0f863",
   "metadata": {
    "id": "FQOGMejVu-6D",
    "papermill": {
     "duration": 0.006886,
     "end_time": "2024-11-12T14:34:09.390926",
     "exception": false,
     "start_time": "2024-11-12T14:34:09.384040",
     "status": "completed"
    },
    "tags": []
   },
   "source": [
    "### Set up your API key\n",
    "\n",
    "To run the following cell, your API key must be stored it in a [Kaggle secret](https://www.kaggle.com/discussions/product-feedback/114053) named `GOOGLE_API_KEY`.\n",
    "\n",
    "If you don't already have an API key, you can grab one from [AI Studio](https://aistudio.google.com/app/apikey). You can find [detailed instructions in the docs](https://ai.google.dev/gemini-api/docs/api-key).\n",
    "\n",
    "To make the key available through Kaggle secrets, choose `Secrets` from the `Add-ons` menu and follow the instructions to add your key or enable it for this notebook."
   ]
  },
  {
   "cell_type": "code",
   "execution_count": 4,
   "id": "559ddd68",
   "metadata": {
    "execution": {
     "iopub.execute_input": "2024-11-12T14:34:09.406260Z",
     "iopub.status.busy": "2024-11-12T14:34:09.405673Z",
     "iopub.status.idle": "2024-11-12T14:34:09.536613Z",
     "shell.execute_reply": "2024-11-12T14:34:09.535739Z"
    },
    "id": "ysayz8skEfBW",
    "papermill": {
     "duration": 0.140864,
     "end_time": "2024-11-12T14:34:09.538789",
     "exception": false,
     "start_time": "2024-11-12T14:34:09.397925",
     "status": "completed"
    },
    "tags": []
   },
   "outputs": [],
   "source": [
    "from kaggle_secrets import UserSecretsClient\n",
    "\n",
    "GOOGLE_API_KEY = UserSecretsClient().get_secret(\"GOOGLE_API_KEY\")\n",
    "genai.configure(api_key=GOOGLE_API_KEY)"
   ]
  },
  {
   "cell_type": "markdown",
   "id": "16da354f",
   "metadata": {
    "id": "52b101760a45",
    "papermill": {
     "duration": 0.006439,
     "end_time": "2024-11-12T14:34:09.552143",
     "exception": false,
     "start_time": "2024-11-12T14:34:09.545704",
     "status": "completed"
    },
    "tags": []
   },
   "source": [
    "If you received an error response along the lines of `No user secrets exist for kernel id ...`, then you need to add your API key via `Add-ons`, `Secrets` **and** enable it.\n",
    "\n",
    "![Screenshot of the checkbox to enable GOOGLE_API_KEY secret](https://storage.googleapis.com/kaggle-media/Images/5gdai_sc_3.png)"
   ]
  },
  {
   "cell_type": "markdown",
   "id": "d29af938",
   "metadata": {
    "id": "fegnGFpMS4AI",
    "papermill": {
     "duration": 0.006373,
     "end_time": "2024-11-12T14:34:09.565041",
     "exception": false,
     "start_time": "2024-11-12T14:34:09.558668",
     "status": "completed"
    },
    "tags": []
   },
   "source": [
    "### Explore available models\n",
    "\n",
    "You will be using the [`embedContent`](https://ai.google.dev/api/embeddings#method:-models.embedcontent) API method to calculate embeddings in this guide. Find a model that supports it through the [`models.list`](https://ai.google.dev/api/models#method:-models.list) endpoint. You can also find more information about the embedding models on [the models page](https://ai.google.dev/gemini-api/docs/models/gemini#text-embedding).\n",
    "\n",
    "`text-embedding-004` is the most recent embedding model, so you will use it for this exercise."
   ]
  },
  {
   "cell_type": "code",
   "execution_count": 5,
   "id": "b9ab1f4c",
   "metadata": {
    "execution": {
     "iopub.execute_input": "2024-11-12T14:34:09.579423Z",
     "iopub.status.busy": "2024-11-12T14:34:09.579111Z",
     "iopub.status.idle": "2024-11-12T14:34:09.895206Z",
     "shell.execute_reply": "2024-11-12T14:34:09.894075Z"
    },
    "id": "Km5d13_FS2Q_",
    "papermill": {
     "duration": 0.325809,
     "end_time": "2024-11-12T14:34:09.897483",
     "exception": false,
     "start_time": "2024-11-12T14:34:09.571674",
     "status": "completed"
    },
    "tags": []
   },
   "outputs": [
    {
     "name": "stdout",
     "output_type": "stream",
     "text": [
      "models/embedding-001\n",
      "models/text-embedding-004\n"
     ]
    }
   ],
   "source": [
    "for m in genai.list_models():\n",
    "    if \"embedContent\" in m.supported_generation_methods:\n",
    "        print(m.name)"
   ]
  },
  {
   "cell_type": "markdown",
   "id": "ce11f5f0",
   "metadata": {
    "id": "3XWKXoXwOGxS",
    "papermill": {
     "duration": 0.007198,
     "end_time": "2024-11-12T14:34:09.912198",
     "exception": false,
     "start_time": "2024-11-12T14:34:09.905000",
     "status": "completed"
    },
    "tags": []
   },
   "source": [
    "### Data\n",
    "\n",
    "Here is a small set of documents you will use to create an embedding database."
   ]
  },
  {
   "cell_type": "code",
   "execution_count": 6,
   "id": "41a57b04",
   "metadata": {
    "execution": {
     "iopub.execute_input": "2024-11-12T14:34:09.929029Z",
     "iopub.status.busy": "2024-11-12T14:34:09.928255Z",
     "iopub.status.idle": "2024-11-12T14:34:09.934367Z",
     "shell.execute_reply": "2024-11-12T14:34:09.933459Z"
    },
    "id": "k8nsbhFJKmG-",
    "papermill": {
     "duration": 0.016815,
     "end_time": "2024-11-12T14:34:09.936484",
     "exception": false,
     "start_time": "2024-11-12T14:34:09.919669",
     "status": "completed"
    },
    "tags": []
   },
   "outputs": [],
   "source": [
    "DOCUMENT1 = \"Operating the Climate Control System  Your Googlecar has a climate control system that allows you to adjust the temperature and airflow in the car. To operate the climate control system, use the buttons and knobs located on the center console.  Temperature: The temperature knob controls the temperature inside the car. Turn the knob clockwise to increase the temperature or counterclockwise to decrease the temperature. Airflow: The airflow knob controls the amount of airflow inside the car. Turn the knob clockwise to increase the airflow or counterclockwise to decrease the airflow. Fan speed: The fan speed knob controls the speed of the fan. Turn the knob clockwise to increase the fan speed or counterclockwise to decrease the fan speed. Mode: The mode button allows you to select the desired mode. The available modes are: Auto: The car will automatically adjust the temperature and airflow to maintain a comfortable level. Cool: The car will blow cool air into the car. Heat: The car will blow warm air into the car. Defrost: The car will blow warm air onto the windshield to defrost it.\"\n",
    "DOCUMENT2 = 'Your Googlecar has a large touchscreen display that provides access to a variety of features, including navigation, entertainment, and climate control. To use the touchscreen display, simply touch the desired icon.  For example, you can touch the \"Navigation\" icon to get directions to your destination or touch the \"Music\" icon to play your favorite songs.'\n",
    "DOCUMENT3 = \"Shifting Gears Your Googlecar has an automatic transmission. To shift gears, simply move the shift lever to the desired position.  Park: This position is used when you are parked. The wheels are locked and the car cannot move. Reverse: This position is used to back up. Neutral: This position is used when you are stopped at a light or in traffic. The car is not in gear and will not move unless you press the gas pedal. Drive: This position is used to drive forward. Low: This position is used for driving in snow or other slippery conditions.\"\n",
    "\n",
    "documents = [DOCUMENT1, DOCUMENT2, DOCUMENT3]"
   ]
  },
  {
   "cell_type": "markdown",
   "id": "1bb3cd5a",
   "metadata": {
    "id": "yDzxArLeOexD",
    "papermill": {
     "duration": 0.007117,
     "end_time": "2024-11-12T14:34:09.950957",
     "exception": false,
     "start_time": "2024-11-12T14:34:09.943840",
     "status": "completed"
    },
    "tags": []
   },
   "source": [
    "## Creating the embedding database with ChromaDB\n",
    "\n",
    "Create a [custom function](https://docs.trychroma.com/guides/embeddings#custom-embedding-functions) to generate embeddings with the Gemini API. In this task, you are implementing a retrieval system, so the `task_type` for generating the *document* embeddings is `retrieval_document`. Later, you will use `retrieval_query` for the *query* embeddings. Check out the [API reference](https://ai.google.dev/api/embeddings#v1beta.TaskType) for the full list of supported tasks.\n"
   ]
  },
  {
   "cell_type": "code",
   "execution_count": 7,
   "id": "83e135f6",
   "metadata": {
    "execution": {
     "iopub.execute_input": "2024-11-12T14:34:09.967554Z",
     "iopub.status.busy": "2024-11-12T14:34:09.966753Z",
     "iopub.status.idle": "2024-11-12T14:34:11.544340Z",
     "shell.execute_reply": "2024-11-12T14:34:11.543242Z"
    },
    "id": "mF7Uu1kCQsT0",
    "papermill": {
     "duration": 1.58837,
     "end_time": "2024-11-12T14:34:11.546774",
     "exception": false,
     "start_time": "2024-11-12T14:34:09.958404",
     "status": "completed"
    },
    "tags": []
   },
   "outputs": [],
   "source": [
    "from chromadb import Documents, EmbeddingFunction, Embeddings\n",
    "from google.api_core import retry\n",
    "\n",
    "\n",
    "class GeminiEmbeddingFunction(EmbeddingFunction):\n",
    "    # Specify whether to generate embeddings for documents, or queries\n",
    "    document_mode = True\n",
    "\n",
    "    def __call__(self, input: Documents) -> Embeddings:\n",
    "        if self.document_mode:\n",
    "            embedding_task = \"retrieval_document\"\n",
    "        else:\n",
    "            embedding_task = \"retrieval_query\"\n",
    "\n",
    "        retry_policy = {\"retry\": retry.Retry(predicate=retry.if_transient_error)}\n",
    "\n",
    "        response = genai.embed_content(\n",
    "            model=\"models/text-embedding-004\",\n",
    "            content=input,\n",
    "            task_type=embedding_task,\n",
    "            request_options=retry_policy,\n",
    "        )\n",
    "        return response[\"embedding\"]"
   ]
  },
  {
   "cell_type": "markdown",
   "id": "e6adc7b7",
   "metadata": {
    "id": "HrDWLyopPNBf",
    "papermill": {
     "duration": 0.00736,
     "end_time": "2024-11-12T14:34:11.561699",
     "exception": false,
     "start_time": "2024-11-12T14:34:11.554339",
     "status": "completed"
    },
    "tags": []
   },
   "source": [
    "Now create a [Chroma database client](https://docs.trychroma.com/getting-started) that uses the `GeminiEmbeddingFunction` and populate the database with the documents you defined above."
   ]
  },
  {
   "cell_type": "code",
   "execution_count": 8,
   "id": "0f967002",
   "metadata": {
    "execution": {
     "iopub.execute_input": "2024-11-12T14:34:11.577833Z",
     "iopub.status.busy": "2024-11-12T14:34:11.577065Z",
     "iopub.status.idle": "2024-11-12T14:34:12.108999Z",
     "shell.execute_reply": "2024-11-12T14:34:12.108154Z"
    },
    "id": "OITXgxZlLoXU",
    "papermill": {
     "duration": 0.542369,
     "end_time": "2024-11-12T14:34:12.111249",
     "exception": false,
     "start_time": "2024-11-12T14:34:11.568880",
     "status": "completed"
    },
    "tags": []
   },
   "outputs": [],
   "source": [
    "import chromadb\n",
    "\n",
    "DB_NAME = \"googlecardb\"\n",
    "embed_fn = GeminiEmbeddingFunction()\n",
    "embed_fn.document_mode = True\n",
    "\n",
    "chroma_client = chromadb.Client()\n",
    "db = chroma_client.get_or_create_collection(name=DB_NAME, embedding_function=embed_fn)\n",
    "\n",
    "db.add(documents=documents, ids=[str(i) for i in range(len(documents))])"
   ]
  },
  {
   "cell_type": "markdown",
   "id": "18b22cae",
   "metadata": {
    "id": "2QbwFgfXp-fL",
    "papermill": {
     "duration": 0.006728,
     "end_time": "2024-11-12T14:34:12.125155",
     "exception": false,
     "start_time": "2024-11-12T14:34:12.118427",
     "status": "completed"
    },
    "tags": []
   },
   "source": [
    "Confirm that the data was inserted by looking at the database."
   ]
  },
  {
   "cell_type": "code",
   "execution_count": 9,
   "id": "f710e801",
   "metadata": {
    "execution": {
     "iopub.execute_input": "2024-11-12T14:34:12.140531Z",
     "iopub.status.busy": "2024-11-12T14:34:12.140217Z",
     "iopub.status.idle": "2024-11-12T14:34:12.148571Z",
     "shell.execute_reply": "2024-11-12T14:34:12.147720Z"
    },
    "id": "kQ9PHUL_l-hf",
    "papermill": {
     "duration": 0.018139,
     "end_time": "2024-11-12T14:34:12.150513",
     "exception": false,
     "start_time": "2024-11-12T14:34:12.132374",
     "status": "completed"
    },
    "tags": []
   },
   "outputs": [
    {
     "data": {
      "text/plain": [
       "3"
      ]
     },
     "execution_count": 9,
     "metadata": {},
     "output_type": "execute_result"
    }
   ],
   "source": [
    "db.count()\n",
    "# You can peek at the data too.\n",
    "# db.peek(1)"
   ]
  },
  {
   "cell_type": "markdown",
   "id": "14c11ed0",
   "metadata": {
    "id": "Tu5zRErgsQ8u",
    "papermill": {
     "duration": 0.006675,
     "end_time": "2024-11-12T14:34:12.164499",
     "exception": false,
     "start_time": "2024-11-12T14:34:12.157824",
     "status": "completed"
    },
    "tags": []
   },
   "source": [
    "## Retrieval: Find relevant documents\n",
    "\n",
    "To search the Chroma database, call the `query` method. Note that you also switch to the `retrieval_query` mode of embedding generation.\n"
   ]
  },
  {
   "cell_type": "code",
   "execution_count": 10,
   "id": "5cc8b16c",
   "metadata": {
    "execution": {
     "iopub.execute_input": "2024-11-12T14:34:12.180044Z",
     "iopub.status.busy": "2024-11-12T14:34:12.179737Z",
     "iopub.status.idle": "2024-11-12T14:34:12.415134Z",
     "shell.execute_reply": "2024-11-12T14:34:12.414159Z"
    },
    "id": "gQdJMbTSLtKE",
    "papermill": {
     "duration": 0.245455,
     "end_time": "2024-11-12T14:34:12.417335",
     "exception": false,
     "start_time": "2024-11-12T14:34:12.171880",
     "status": "completed"
    },
    "tags": []
   },
   "outputs": [
    {
     "data": {
      "text/markdown": [
       "Your Googlecar has a large touchscreen display that provides access to a variety of features, including navigation, entertainment, and climate control. To use the touchscreen display, simply touch the desired icon.  For example, you can touch the \"Navigation\" icon to get directions to your destination or touch the \"Music\" icon to play your favorite songs."
      ],
      "text/plain": [
       "<IPython.core.display.Markdown object>"
      ]
     },
     "execution_count": 10,
     "metadata": {},
     "output_type": "execute_result"
    }
   ],
   "source": [
    "# Switch to query mode when generating embeddings.\n",
    "embed_fn.document_mode = False\n",
    "\n",
    "# Search the Chroma DB using the specified query.\n",
    "query = \"How do you use the touchscreen to play music?\"\n",
    "\n",
    "result = db.query(query_texts=[query], n_results=1)\n",
    "[[passage]] = result[\"documents\"]\n",
    "\n",
    "Markdown(passage)"
   ]
  },
  {
   "cell_type": "markdown",
   "id": "d5f91734",
   "metadata": {
    "id": "s8PNRMpOQkm5",
    "papermill": {
     "duration": 0.007052,
     "end_time": "2024-11-12T14:34:12.436831",
     "exception": false,
     "start_time": "2024-11-12T14:34:12.429779",
     "status": "completed"
    },
    "tags": []
   },
   "source": [
    "## Augmented generation: Answer the question\n",
    "\n",
    "Now that you have found a relevant passage from the set of documents (the *retrieval* step), you can now assemble a generation prompt to have the Gemini API *generate* a final answer. Note that in this example only a single passage was retrieved. In practice, especially when the size of your underlying data is large, you will want to retrieve more than one result and let the Gemini model determine what passages are relevant in answering the question. For this reason it's OK if some retrieved passages are not directly related to the question - this generation step should ignore them."
   ]
  },
  {
   "cell_type": "code",
   "execution_count": 11,
   "id": "eb22bf03",
   "metadata": {
    "execution": {
     "iopub.execute_input": "2024-11-12T14:34:12.453234Z",
     "iopub.status.busy": "2024-11-12T14:34:12.452391Z",
     "iopub.status.idle": "2024-11-12T14:34:12.459352Z",
     "shell.execute_reply": "2024-11-12T14:34:12.458369Z"
    },
    "id": "b6_Y-GOymaXu",
    "papermill": {
     "duration": 0.017215,
     "end_time": "2024-11-12T14:34:12.461294",
     "exception": false,
     "start_time": "2024-11-12T14:34:12.444079",
     "status": "completed"
    },
    "tags": []
   },
   "outputs": [
    {
     "name": "stdout",
     "output_type": "stream",
     "text": [
      "You are a helpful and informative bot that answers questions using text from the reference passage included below. \n",
      "Be sure to respond in a complete sentence, being comprehensive, including all relevant background information. \n",
      "However, you are talking to a non-technical audience, so be sure to break down complicated concepts and \n",
      "strike a friendly and converstional tone. If the passage is irrelevant to the answer, you may ignore it.\n",
      "\n",
      "QUESTION: How do you use the touchscreen to play music?\n",
      "PASSAGE: Your Googlecar has a large touchscreen display that provides access to a variety of features, including navigation, entertainment, and climate control. To use the touchscreen display, simply touch the desired icon.  For example, you can touch the \"Navigation\" icon to get directions to your destination or touch the \"Music\" icon to play your favorite songs.\n",
      "\n"
     ]
    }
   ],
   "source": [
    "passage_oneline = passage.replace(\"\\n\", \" \")\n",
    "query_oneline = query.replace(\"\\n\", \" \")\n",
    "\n",
    "# This prompt is where you can specify any guidance on tone, or what topics the model should stick to, or avoid.\n",
    "prompt = f\"\"\"You are a helpful and informative bot that answers questions using text from the reference passage included below. \n",
    "Be sure to respond in a complete sentence, being comprehensive, including all relevant background information. \n",
    "However, you are talking to a non-technical audience, so be sure to break down complicated concepts and \n",
    "strike a friendly and converstional tone. If the passage is irrelevant to the answer, you may ignore it.\n",
    "\n",
    "QUESTION: {query_oneline}\n",
    "PASSAGE: {passage_oneline}\n",
    "\"\"\"\n",
    "print(prompt)"
   ]
  },
  {
   "cell_type": "markdown",
   "id": "70f3f606",
   "metadata": {
    "id": "VRy6yXzcPxLB",
    "papermill": {
     "duration": 0.006788,
     "end_time": "2024-11-12T14:34:12.475244",
     "exception": false,
     "start_time": "2024-11-12T14:34:12.468456",
     "status": "completed"
    },
    "tags": []
   },
   "source": [
    "Now use the `generate_content` method to to generate an answer to the question."
   ]
  },
  {
   "cell_type": "code",
   "execution_count": 12,
   "id": "fe43d706",
   "metadata": {
    "execution": {
     "iopub.execute_input": "2024-11-12T14:34:12.491226Z",
     "iopub.status.busy": "2024-11-12T14:34:12.490938Z",
     "iopub.status.idle": "2024-11-12T14:34:13.022353Z",
     "shell.execute_reply": "2024-11-12T14:34:13.021340Z"
    },
    "id": "EwfyxFM6Giy9",
    "papermill": {
     "duration": 0.541983,
     "end_time": "2024-11-12T14:34:13.024310",
     "exception": false,
     "start_time": "2024-11-12T14:34:12.482327",
     "status": "completed"
    },
    "tags": []
   },
   "outputs": [
    {
     "data": {
      "text/markdown": [
       "To play music, simply touch the \"Music\" icon on your Googlecar's touchscreen display. \n"
      ],
      "text/plain": [
       "<IPython.core.display.Markdown object>"
      ]
     },
     "execution_count": 12,
     "metadata": {},
     "output_type": "execute_result"
    }
   ],
   "source": [
    "model = genai.GenerativeModel(\"gemini-1.5-flash-latest\")\n",
    "answer = model.generate_content(prompt)\n",
    "Markdown(answer.text)"
   ]
  },
  {
   "cell_type": "markdown",
   "id": "5e51cca7",
   "metadata": {
    "id": "ThTbjAJ7eGP5",
    "papermill": {
     "duration": 0.007121,
     "end_time": "2024-11-12T14:34:13.038846",
     "exception": false,
     "start_time": "2024-11-12T14:34:13.031725",
     "status": "completed"
    },
    "tags": []
   },
   "source": [
    "## Next steps\n",
    "\n",
    "Congrats on building a Retrieval-Augmented Generation app!\n",
    "\n",
    "To learn more about using embeddings in the Gemini API, check out the [Intro to embeddings](https://ai.google.dev/gemini-api/docs/embeddings) or to learn more fundamentals, study the [embeddings chapter](https://developers.google.com/machine-learning/crash-course/embeddings) of the Machine Learning Crash Course.\n",
    "\n",
    "For a hosted RAG system, check out the [Semantic Retrieval service](https://ai.google.dev/gemini-api/docs/semantic_retrieval) in the Gemini API. You can implement question-answering on your own documents in a single request, or host a database for even faster responses."
   ]
  }
 ],
 "metadata": {
  "colab": {
   "name": "day-2-document-q-a-with-rag.ipynb",
   "toc_visible": true
  },
  "kaggle": {
   "accelerator": "nvidiaTeslaT4",
   "dataSources": [],
   "dockerImageVersionId": 30786,
   "isGpuEnabled": true,
   "isInternetEnabled": true,
   "language": "python",
   "sourceType": "notebook"
  },
  "kernelspec": {
   "display_name": "Python 3",
   "language": "python",
   "name": "python3"
  },
  "language_info": {
   "codemirror_mode": {
    "name": "ipython",
    "version": 3
   },
   "file_extension": ".py",
   "mimetype": "text/x-python",
   "name": "python",
   "nbconvert_exporter": "python",
   "pygments_lexer": "ipython3",
   "version": "3.10.14"
  },
  "papermill": {
   "default_parameters": {},
   "duration": 81.464914,
   "end_time": "2024-11-12T14:34:13.564861",
   "environment_variables": {},
   "exception": null,
   "input_path": "__notebook__.ipynb",
   "output_path": "__notebook__.ipynb",
   "parameters": {},
   "start_time": "2024-11-12T14:32:52.099947",
   "version": "2.6.0"
  }
 },
 "nbformat": 4,
 "nbformat_minor": 5
}
