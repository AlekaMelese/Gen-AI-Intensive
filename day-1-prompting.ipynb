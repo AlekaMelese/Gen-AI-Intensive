{
 "cells": [
  {
   "cell_type": "markdown",
   "id": "f07ec2a8",
   "metadata": {
    "id": "jkxRSYjzA1oX",
    "papermill": {
     "duration": 0.018777,
     "end_time": "2024-11-11T13:40:32.140455",
     "exception": false,
     "start_time": "2024-11-11T13:40:32.121678",
     "status": "completed"
    },
    "tags": []
   },
   "source": [
    "##### Copyright 2024 Google LLC."
   ]
  },
  {
   "cell_type": "code",
   "execution_count": 1,
   "id": "34a1747a",
   "metadata": {
    "cellView": "form",
    "execution": {
     "iopub.execute_input": "2024-11-11T13:40:32.178822Z",
     "iopub.status.busy": "2024-11-11T13:40:32.178363Z",
     "iopub.status.idle": "2024-11-11T13:40:32.188064Z",
     "shell.execute_reply": "2024-11-11T13:40:32.186874Z"
    },
    "id": "5u5OZ2ShA3BA",
    "jupyter": {
     "source_hidden": true
    },
    "papermill": {
     "duration": 0.03217,
     "end_time": "2024-11-11T13:40:32.190608",
     "exception": false,
     "start_time": "2024-11-11T13:40:32.158438",
     "status": "completed"
    },
    "tags": []
   },
   "outputs": [],
   "source": [
    "# @title Licensed under the Apache License, Version 2.0 (the \"License\");\n",
    "# you may not use this file except in compliance with the License.\n",
    "# You may obtain a copy of the License at\n",
    "#\n",
    "# https://www.apache.org/licenses/LICENSE-2.0\n",
    "#\n",
    "# Unless required by applicable law or agreed to in writing, software\n",
    "# distributed under the License is distributed on an \"AS IS\" BASIS,\n",
    "# WITHOUT WARRANTIES OR CONDITIONS OF ANY KIND, either express or implied.\n",
    "# See the License for the specific language governing permissions and\n",
    "# limitations under the License."
   ]
  },
  {
   "cell_type": "markdown",
   "id": "de87d97b",
   "metadata": {
    "id": "csNPnkuCobmG",
    "papermill": {
     "duration": 0.017436,
     "end_time": "2024-11-11T13:40:32.226420",
     "exception": false,
     "start_time": "2024-11-11T13:40:32.208984",
     "status": "completed"
    },
    "tags": []
   },
   "source": [
    "# Day 1 - Prompting\n",
    "\n",
    "Welcome to the Kaggle 5-day Generative AI course!\n",
    "\n",
    "This notebook will show you how to get started with the Gemini API and walk you through some of the example prompts and techniques that you can also read about in the Prompting whitepaper. You don't need to read the whitepaper to use this notebook, but the papers will give you some theoretical context and background to complement this interactive notebook.\n",
    "\n",
    "\n",
    "## Before you begin\n",
    "\n",
    "In this notebook, you'll start exploring prompts and prompt parameters using the Python SDK and AI Studio. For some inspiration, you might enjoy exploring some apps that have been built using the Gemini family of models. Here are a few that we like, and we think you will too.\n",
    "\n",
    "* [TextFX](https://textfx.withgoogle.com/) is a suite of AI-powered tools for rappers, made in collaboration with Lupe Fiasco,\n",
    "* [SQL Talk](https://sql-talk-r5gdynozbq-uc.a.run.app/) shows how you can talk directly to a database using the Gemini API,\n",
    "* [NotebookLM](https://notebooklm.google/) uses Gemini models to build your own personal AI research assistant.\n",
    "\n",
    "\n",
    "### A note on the Gemini API and Vertex AI\n",
    "\n",
    "In the whitepapers, most of the example code uses the Enterprise [Vertex AI platform](https://cloud.google.com/vertex-ai). In contrast, this notebook, along with the others in this series, will use the [Gemini Developer API](https://ai.google.dev/gemini-api/) and [AI Studio](https://aistudio.google.com/).\n",
    "\n",
    "Both APIs provide access to the Gemini family of models, and the code to interact with the models is very similar. Vertex provides a world-class platform for enterprises, governments and advanced users that need powerful features like data governance, ML ops and deep Google Cloud integration.\n",
    "\n",
    "AI Studio is free to use and only requires a compatible Google account to log in and get started. It is deeply integrated with the Gemini API, which comes with a generous [free tier](https://ai.google.dev/pricing) that you can use to run the code in these exercises.\n",
    "\n",
    "If you are already set up with Google Cloud, you can check out the [Enterprise Gemini API](https://cloud.google.com/vertex-ai/generative-ai/docs/model-reference/inference) through Vertex AI, and run the samples directly from the supplied whitepapers."
   ]
  },
  {
   "cell_type": "markdown",
   "id": "51388548",
   "metadata": {
    "id": "f00ea7c99e44",
    "papermill": {
     "duration": 0.017391,
     "end_time": "2024-11-11T13:40:32.261316",
     "exception": false,
     "start_time": "2024-11-11T13:40:32.243925",
     "status": "completed"
    },
    "tags": []
   },
   "source": [
    "## Get started with Kaggle notebooks\n",
    "\n",
    "If this is your first time using a Kaggle notebook, welcome! You can read about how to use Kaggle notebooks [in the docs](https://www.kaggle.com/docs/notebooks).\n",
    "\n",
    "First, you will need to phone verify your account at kaggle.com/settings.\n",
    "\n",
    "![](https://storage.googleapis.com/kaggle-media/Images/5dgai_0.png)"
   ]
  },
  {
   "cell_type": "markdown",
   "id": "13dafd72",
   "metadata": {
    "papermill": {
     "duration": 0.0174,
     "end_time": "2024-11-11T13:40:32.296320",
     "exception": false,
     "start_time": "2024-11-11T13:40:32.278920",
     "status": "completed"
    },
    "tags": []
   },
   "source": [
    "To run this notebook, as well as the others in this course, you will need to make a copy, or fork, the notebook. Look for the `Copy and Edit` button in the top-right, and **click it** to make an editable, private copy of the notebook. It should look like this one:\n",
    "\n",
    "![Copy and Edit button](https://storage.googleapis.com/kaggle-media/Images/5gdai_sc_1.png)\n",
    "\n",
    "Your copy will now have a ▶️ **Run** button next to each code cell that you can press to execute that cell. These notebooks are expected to be run in order from top-to-bottom, but you are encouraged to add new cells, run your own code and explore. If you get stuck, you can try the `Factory reset` option in the `Run` menu, or head back to the original notebook and make a fresh copy.\n",
    "\n",
    "![Run cell button](https://storage.googleapis.com/kaggle-media/Images/5gdai_sc_2.png)\n",
    "\n",
    "### Problems?\n",
    "\n",
    "If you have any problems, head over to the [Kaggle Discord](https://discord.com/invite/kaggle), find the [`#5dgai-q-and-a` channel](https://discord.com/channels/1101210829807956100/1303438695143178251) and ask for help."
   ]
  },
  {
   "cell_type": "markdown",
   "id": "58500d9b",
   "metadata": {
    "id": "ExkOXcPxtTb5",
    "papermill": {
     "duration": 0.017173,
     "end_time": "2024-11-11T13:40:32.331099",
     "exception": false,
     "start_time": "2024-11-11T13:40:32.313926",
     "status": "completed"
    },
    "tags": []
   },
   "source": [
    "## Get started with the Gemini API\n",
    "\n",
    "All of the exercises in this notebook will use the [Gemini API](https://ai.google.dev/gemini-api/) by way of the [Python SDK](https://pypi.org/project/google-generativeai/). Each of these prompts can be accessed directly in [Google AI Studio](https://aistudio.google.com/) too, so if you would rather use a web interface and skip the code for this activity, look for the <img src=\"https://ai.google.dev/site-assets/images/marketing/home/icon-ais.png\" style=\"height: 24px\" height=24/> AI Studio link on each prompt."
   ]
  },
  {
   "cell_type": "markdown",
   "id": "b3c6aeca",
   "metadata": {
    "papermill": {
     "duration": 0.01711,
     "end_time": "2024-11-11T13:40:32.365956",
     "exception": false,
     "start_time": "2024-11-11T13:40:32.348846",
     "status": "completed"
    },
    "tags": []
   },
   "source": [
    "Next, you will need to add your API key to your Kaggle Notebook as a Kaggle User Secret.\n",
    "\n",
    "![](https://storage.googleapis.com/kaggle-media/Images/5dgai_1.png)\n",
    "![](https://storage.googleapis.com/kaggle-media/Images/5dgai_2.png)\n",
    "![](https://storage.googleapis.com/kaggle-media/Images/5dgai_3.png)\n",
    "![](https://storage.googleapis.com/kaggle-media/Images/5dgai_4.png)"
   ]
  },
  {
   "cell_type": "markdown",
   "id": "899377d9",
   "metadata": {
    "id": "UAjUV3BsvFXQ",
    "papermill": {
     "duration": 0.017261,
     "end_time": "2024-11-11T13:40:32.400878",
     "exception": false,
     "start_time": "2024-11-11T13:40:32.383617",
     "status": "completed"
    },
    "tags": []
   },
   "source": [
    "### Install the SDK"
   ]
  },
  {
   "cell_type": "code",
   "execution_count": 2,
   "id": "17771d49",
   "metadata": {
    "execution": {
     "iopub.execute_input": "2024-11-11T13:40:32.437607Z",
     "iopub.status.busy": "2024-11-11T13:40:32.437178Z",
     "iopub.status.idle": "2024-11-11T13:41:01.766455Z",
     "shell.execute_reply": "2024-11-11T13:41:01.764660Z"
    },
    "id": "NzwzJFU9LqkJ",
    "papermill": {
     "duration": 29.350628,
     "end_time": "2024-11-11T13:41:01.769023",
     "exception": false,
     "start_time": "2024-11-11T13:40:32.418395",
     "status": "completed"
    },
    "tags": []
   },
   "outputs": [
    {
     "name": "stdout",
     "output_type": "stream",
     "text": [
      "Note: you may need to restart the kernel to use updated packages.\n"
     ]
    }
   ],
   "source": [
    "%pip install -U -q \"google-generativeai>=0.8.3\""
   ]
  },
  {
   "cell_type": "code",
   "execution_count": 3,
   "id": "578bc505",
   "metadata": {
    "execution": {
     "iopub.execute_input": "2024-11-11T13:41:01.808666Z",
     "iopub.status.busy": "2024-11-11T13:41:01.808124Z",
     "iopub.status.idle": "2024-11-11T13:41:02.929669Z",
     "shell.execute_reply": "2024-11-11T13:41:02.928479Z"
    },
    "id": "5DwxYIRavMST",
    "papermill": {
     "duration": 1.144378,
     "end_time": "2024-11-11T13:41:02.932555",
     "exception": false,
     "start_time": "2024-11-11T13:41:01.788177",
     "status": "completed"
    },
    "tags": []
   },
   "outputs": [],
   "source": [
    "import google.generativeai as genai\n",
    "from IPython.display import HTML, Markdown, display"
   ]
  },
  {
   "cell_type": "markdown",
   "id": "b2501210",
   "metadata": {
    "id": "DNEt2BCOvOJ1",
    "papermill": {
     "duration": 0.017208,
     "end_time": "2024-11-11T13:41:02.967897",
     "exception": false,
     "start_time": "2024-11-11T13:41:02.950689",
     "status": "completed"
    },
    "tags": []
   },
   "source": [
    "### Set up your API key\n",
    "\n",
    "To run the following cell, your API key must be stored it in a [Kaggle secret](https://www.kaggle.com/discussions/product-feedback/114053) named `GOOGLE_API_KEY`.\n",
    "\n",
    "If you don't already have an API key, you can grab one from [AI Studio](https://aistudio.google.com/app/apikey). You can find [detailed instructions in the docs](https://ai.google.dev/gemini-api/docs/api-key).\n",
    "\n",
    "To make the key available through Kaggle secrets, choose `Secrets` from the `Add-ons` menu and follow the instructions to add your key or enable it for this notebook."
   ]
  },
  {
   "cell_type": "code",
   "execution_count": 4,
   "id": "a5099d36",
   "metadata": {
    "execution": {
     "iopub.execute_input": "2024-11-11T13:41:03.005987Z",
     "iopub.status.busy": "2024-11-11T13:41:03.004368Z",
     "iopub.status.idle": "2024-11-11T13:41:03.190612Z",
     "shell.execute_reply": "2024-11-11T13:41:03.189491Z"
    },
    "id": "SHl0bkPCvayd",
    "papermill": {
     "duration": 0.208116,
     "end_time": "2024-11-11T13:41:03.193377",
     "exception": false,
     "start_time": "2024-11-11T13:41:02.985261",
     "status": "completed"
    },
    "tags": []
   },
   "outputs": [],
   "source": [
    "from kaggle_secrets import UserSecretsClient\n",
    "GOOGLE_API_KEY = UserSecretsClient().get_secret(\"GOOGLE_API_KEY\")\n",
    "genai.configure(api_key=GOOGLE_API_KEY)\n"
   ]
  },
  {
   "cell_type": "markdown",
   "id": "e3c0649f",
   "metadata": {
    "id": "4e720472fd86",
    "papermill": {
     "duration": 0.017354,
     "end_time": "2024-11-11T13:41:03.228328",
     "exception": false,
     "start_time": "2024-11-11T13:41:03.210974",
     "status": "completed"
    },
    "tags": []
   },
   "source": [
    "If you received an error response along the lines of `No user secrets exist for kernel id ...`, then you need to add your API key via `Add-ons`, `Secrets` **and** enable it.\n",
    "\n",
    "![Screenshot of the checkbox to enable GOOGLE_API_KEY secret](https://storage.googleapis.com/kaggle-media/Images/5gdai_sc_3.png)"
   ]
  },
  {
   "cell_type": "markdown",
   "id": "93a1d8e9",
   "metadata": {
    "id": "H_YXCYIKvyZJ",
    "papermill": {
     "duration": 0.017245,
     "end_time": "2024-11-11T13:41:03.263076",
     "exception": false,
     "start_time": "2024-11-11T13:41:03.245831",
     "status": "completed"
    },
    "tags": []
   },
   "source": [
    "### Run your first prompt\n",
    "\n",
    "In this step, you will test that your API key is set up correctly by making a request. The `gemini-1.5-flash` model has been selected here."
   ]
  },
  {
   "cell_type": "code",
   "execution_count": 5,
   "id": "13ed69e4",
   "metadata": {
    "execution": {
     "iopub.execute_input": "2024-11-11T13:41:03.300366Z",
     "iopub.status.busy": "2024-11-11T13:41:03.299661Z",
     "iopub.status.idle": "2024-11-11T13:41:04.952166Z",
     "shell.execute_reply": "2024-11-11T13:41:04.950963Z"
    },
    "id": "BV1o0PmcvyJF",
    "papermill": {
     "duration": 1.674039,
     "end_time": "2024-11-11T13:41:04.954742",
     "exception": false,
     "start_time": "2024-11-11T13:41:03.280703",
     "status": "completed"
    },
    "tags": []
   },
   "outputs": [
    {
     "name": "stdout",
     "output_type": "stream",
     "text": [
      "Imagine you have a really smart robot friend. This robot can learn just like you! It can read books, watch movies, and even play games. The more it learns, the smarter it gets.  \n",
      "\n",
      "That's what AI, or Artificial Intelligence, is all about. It's like giving a computer a brain that can think and learn like a human. \n",
      "\n",
      "Here are some examples of how AI works:\n",
      "\n",
      "* **Siri or Alexa:** When you ask Siri or Alexa to play a song or set a reminder, they use AI to understand your words and figure out what you want.\n",
      "* **Self-driving cars:** These cars use AI to see the road, recognize traffic lights, and make decisions about how to drive safely.\n",
      "* **Netflix recommendations:** When Netflix suggests shows you might like, it's using AI to learn what you've watched before and predict what you might enjoy watching next.\n",
      "\n",
      "AI is still learning and growing, but it's already changing the world in lots of cool ways! \n",
      "\n"
     ]
    }
   ],
   "source": [
    "flash = genai.GenerativeModel('gemini-1.5-flash')\n",
    "response = flash.generate_content(\"Explain AI to me like I'm a kid.\")\n",
    "print(response.text)"
   ]
  },
  {
   "cell_type": "markdown",
   "id": "c3d25211",
   "metadata": {
    "id": "f60ed9d8ae41",
    "papermill": {
     "duration": 0.017816,
     "end_time": "2024-11-11T13:41:04.990523",
     "exception": false,
     "start_time": "2024-11-11T13:41:04.972707",
     "status": "completed"
    },
    "tags": []
   },
   "source": [
    "The response often comes back in markdown format, which you can render directly in this notebook."
   ]
  },
  {
   "cell_type": "code",
   "execution_count": 6,
   "id": "07090d5e",
   "metadata": {
    "execution": {
     "iopub.execute_input": "2024-11-11T13:41:05.028492Z",
     "iopub.status.busy": "2024-11-11T13:41:05.027473Z",
     "iopub.status.idle": "2024-11-11T13:41:05.036268Z",
     "shell.execute_reply": "2024-11-11T13:41:05.035218Z"
    },
    "id": "c933e5e460a5",
    "papermill": {
     "duration": 0.030637,
     "end_time": "2024-11-11T13:41:05.038806",
     "exception": false,
     "start_time": "2024-11-11T13:41:05.008169",
     "status": "completed"
    },
    "tags": []
   },
   "outputs": [
    {
     "data": {
      "text/markdown": [
       "Imagine you have a really smart robot friend. This robot can learn just like you! It can read books, watch movies, and even play games. The more it learns, the smarter it gets.  \n",
       "\n",
       "That's what AI, or Artificial Intelligence, is all about. It's like giving a computer a brain that can think and learn like a human. \n",
       "\n",
       "Here are some examples of how AI works:\n",
       "\n",
       "* **Siri or Alexa:** When you ask Siri or Alexa to play a song or set a reminder, they use AI to understand your words and figure out what you want.\n",
       "* **Self-driving cars:** These cars use AI to see the road, recognize traffic lights, and make decisions about how to drive safely.\n",
       "* **Netflix recommendations:** When Netflix suggests shows you might like, it's using AI to learn what you've watched before and predict what you might enjoy watching next.\n",
       "\n",
       "AI is still learning and growing, but it's already changing the world in lots of cool ways! \n"
      ],
      "text/plain": [
       "<IPython.core.display.Markdown object>"
      ]
     },
     "execution_count": 6,
     "metadata": {},
     "output_type": "execute_result"
    }
   ],
   "source": [
    "Markdown(response.text)"
   ]
  },
  {
   "cell_type": "markdown",
   "id": "3b7dc1b6",
   "metadata": {
    "id": "byx0pT9ZMW2Q",
    "papermill": {
     "duration": 0.017799,
     "end_time": "2024-11-11T13:41:05.074857",
     "exception": false,
     "start_time": "2024-11-11T13:41:05.057058",
     "status": "completed"
    },
    "tags": []
   },
   "source": [
    "### Start a chat\n",
    "\n",
    "The previous example uses a single-turn, text-in/text-out structure, but you can also set up a multi-turn chat structure too."
   ]
  },
  {
   "cell_type": "code",
   "execution_count": 7,
   "id": "07e5f5a4",
   "metadata": {
    "execution": {
     "iopub.execute_input": "2024-11-11T13:41:05.113822Z",
     "iopub.status.busy": "2024-11-11T13:41:05.113384Z",
     "iopub.status.idle": "2024-11-11T13:41:05.566294Z",
     "shell.execute_reply": "2024-11-11T13:41:05.565164Z"
    },
    "id": "lV_S5ZL5MidD",
    "papermill": {
     "duration": 0.475666,
     "end_time": "2024-11-11T13:41:05.568914",
     "exception": false,
     "start_time": "2024-11-11T13:41:05.093248",
     "status": "completed"
    },
    "tags": []
   },
   "outputs": [
    {
     "name": "stdout",
     "output_type": "stream",
     "text": [
      "Hello Aleka Melese Ayalew! It's nice to meet you. 😊  What can I do for you today? \n",
      "\n"
     ]
    }
   ],
   "source": [
    "chat = flash.start_chat(history=[])\n",
    "response = chat.send_message('Hello! My name is Aleka Melese Ayalew.')\n",
    "print(response.text)"
   ]
  },
  {
   "cell_type": "code",
   "execution_count": 8,
   "id": "840f4405",
   "metadata": {
    "execution": {
     "iopub.execute_input": "2024-11-11T13:41:05.609492Z",
     "iopub.status.busy": "2024-11-11T13:41:05.608504Z",
     "iopub.status.idle": "2024-11-11T13:41:06.726056Z",
     "shell.execute_reply": "2024-11-11T13:41:06.724961Z"
    },
    "id": "7b0372c3c64a",
    "papermill": {
     "duration": 1.141604,
     "end_time": "2024-11-11T13:41:06.729025",
     "exception": false,
     "start_time": "2024-11-11T13:41:05.587421",
     "status": "completed"
    },
    "tags": []
   },
   "outputs": [
    {
     "name": "stdout",
     "output_type": "stream",
     "text": [
      "Of course! Dinosaurs are fascinating creatures. Here's something interesting: \n",
      "\n",
      "**Did you know that some dinosaurs had feathers?** \n",
      "\n",
      "While we often picture dinosaurs as scaly beasts, many species actually had feathers! Scientists have discovered fossils of dinosaurs with well-preserved feathers, including the famous *Velociraptor*. These feathers weren't necessarily for flight but might have served for insulation, display, or even attracting mates. \n",
      "\n",
      "This discovery has completely changed our understanding of dinosaurs and their evolution, showing a closer link between them and birds. \n",
      "\n",
      "What else would you like to know about dinosaurs? 🦕\n",
      "\n"
     ]
    }
   ],
   "source": [
    "response = chat.send_message('Can you tell something interesting about dinosaurs?')\n",
    "print(response.text)"
   ]
  },
  {
   "cell_type": "code",
   "execution_count": 9,
   "id": "a27ff3b1",
   "metadata": {
    "execution": {
     "iopub.execute_input": "2024-11-11T13:41:06.768641Z",
     "iopub.status.busy": "2024-11-11T13:41:06.768104Z",
     "iopub.status.idle": "2024-11-11T13:41:07.636055Z",
     "shell.execute_reply": "2024-11-11T13:41:07.634604Z"
    },
    "id": "d3f9591392a7",
    "papermill": {
     "duration": 0.8903,
     "end_time": "2024-11-11T13:41:07.638592",
     "exception": false,
     "start_time": "2024-11-11T13:41:06.748292",
     "status": "completed"
    },
    "tags": []
   },
   "outputs": [
    {
     "name": "stdout",
     "output_type": "stream",
     "text": [
      "Yes, I do! You are Aleka Melese Ayalew. 😊  I have a good memory for names, especially when they are introduced to me.  \n",
      "\n",
      "What can I help you with now? \n",
      "\n"
     ]
    }
   ],
   "source": [
    "# While you have the `chat` object around, the conversation state\n",
    "# persists. Confirm that by asking if it knows my name.\n",
    "response = chat.send_message('Do you remember what my name is?')\n",
    "print(response.text)"
   ]
  },
  {
   "cell_type": "markdown",
   "id": "310f506e",
   "metadata": {
    "id": "2KAjpr1200sW",
    "papermill": {
     "duration": 0.018705,
     "end_time": "2024-11-11T13:41:07.676525",
     "exception": false,
     "start_time": "2024-11-11T13:41:07.657820",
     "status": "completed"
    },
    "tags": []
   },
   "source": [
    "### Choose a model\n",
    "\n",
    "The Gemini API provides access to a number of models from the Gemini model family. Read about the available models and their capabilities on the [model overview page](https://ai.google.dev/gemini-api/docs/models/gemini).\n",
    "\n",
    "In this step you'll use the API to list all of the available models."
   ]
  },
  {
   "cell_type": "code",
   "execution_count": 10,
   "id": "32698b9e",
   "metadata": {
    "execution": {
     "iopub.execute_input": "2024-11-11T13:41:07.716590Z",
     "iopub.status.busy": "2024-11-11T13:41:07.716144Z",
     "iopub.status.idle": "2024-11-11T13:41:08.165339Z",
     "shell.execute_reply": "2024-11-11T13:41:08.164061Z"
    },
    "id": "uUUZa2uq2jDm",
    "papermill": {
     "duration": 0.472276,
     "end_time": "2024-11-11T13:41:08.168096",
     "exception": false,
     "start_time": "2024-11-11T13:41:07.695820",
     "status": "completed"
    },
    "tags": []
   },
   "outputs": [
    {
     "name": "stdout",
     "output_type": "stream",
     "text": [
      "models/chat-bison-001\n",
      "models/text-bison-001\n",
      "models/embedding-gecko-001\n",
      "models/gemini-1.0-pro-latest\n",
      "models/gemini-1.0-pro\n",
      "models/gemini-pro\n",
      "models/gemini-1.0-pro-001\n",
      "models/gemini-1.0-pro-vision-latest\n",
      "models/gemini-pro-vision\n",
      "models/gemini-1.5-pro-latest\n",
      "models/gemini-1.5-pro-001\n",
      "models/gemini-1.5-pro-002\n",
      "models/gemini-1.5-pro\n",
      "models/gemini-1.5-pro-exp-0801\n",
      "models/gemini-1.5-pro-exp-0827\n",
      "models/gemini-1.5-flash-latest\n",
      "models/gemini-1.5-flash-001\n",
      "models/gemini-1.5-flash-001-tuning\n",
      "models/gemini-1.5-flash\n",
      "models/gemini-1.5-flash-exp-0827\n",
      "models/gemini-1.5-flash-002\n",
      "models/gemini-1.5-flash-8b\n",
      "models/gemini-1.5-flash-8b-001\n",
      "models/gemini-1.5-flash-8b-latest\n",
      "models/gemini-1.5-flash-8b-exp-0827\n",
      "models/gemini-1.5-flash-8b-exp-0924\n",
      "models/embedding-001\n",
      "models/text-embedding-004\n",
      "models/aqa\n"
     ]
    }
   ],
   "source": [
    "for model in genai.list_models():\n",
    "  print(model.name)"
   ]
  },
  {
   "cell_type": "markdown",
   "id": "4c606013",
   "metadata": {
    "id": "rN49kSI54R1v",
    "papermill": {
     "duration": 0.018493,
     "end_time": "2024-11-11T13:41:08.205365",
     "exception": false,
     "start_time": "2024-11-11T13:41:08.186872",
     "status": "completed"
    },
    "tags": []
   },
   "source": [
    "The [`models.list`](https://ai.google.dev/api/models#method:-models.list) response also returns additional information about the model's capabilities, like the token limits and supported parameters."
   ]
  },
  {
   "cell_type": "code",
   "execution_count": 11,
   "id": "7330a307",
   "metadata": {
    "execution": {
     "iopub.execute_input": "2024-11-11T13:41:08.245534Z",
     "iopub.status.busy": "2024-11-11T13:41:08.244544Z",
     "iopub.status.idle": "2024-11-11T13:41:08.407948Z",
     "shell.execute_reply": "2024-11-11T13:41:08.406540Z"
    },
    "id": "k7JJ1K6j4Rl8",
    "papermill": {
     "duration": 0.186047,
     "end_time": "2024-11-11T13:41:08.410329",
     "exception": false,
     "start_time": "2024-11-11T13:41:08.224282",
     "status": "completed"
    },
    "tags": []
   },
   "outputs": [
    {
     "name": "stdout",
     "output_type": "stream",
     "text": [
      "Model(name='models/gemini-1.5-flash',\n",
      "      base_model_id='',\n",
      "      version='001',\n",
      "      display_name='Gemini 1.5 Flash',\n",
      "      description='Fast and versatile multimodal model for scaling across diverse tasks',\n",
      "      input_token_limit=1000000,\n",
      "      output_token_limit=8192,\n",
      "      supported_generation_methods=['generateContent', 'countTokens'],\n",
      "      temperature=1.0,\n",
      "      max_temperature=2.0,\n",
      "      top_p=0.95,\n",
      "      top_k=40)\n"
     ]
    }
   ],
   "source": [
    "for model in genai.list_models():\n",
    "  if model.name == 'models/gemini-1.5-flash':\n",
    "    print(model)\n",
    "    break"
   ]
  },
  {
   "cell_type": "markdown",
   "id": "c4838425",
   "metadata": {
    "id": "5rU_UBlZdooM",
    "papermill": {
     "duration": 0.021259,
     "end_time": "2024-11-11T13:41:08.450548",
     "exception": false,
     "start_time": "2024-11-11T13:41:08.429289",
     "status": "completed"
    },
    "tags": []
   },
   "source": [
    "## Explore generation parameters\n",
    "\n"
   ]
  },
  {
   "cell_type": "markdown",
   "id": "b1fed855",
   "metadata": {
    "id": "G7NfEizeipbW",
    "papermill": {
     "duration": 0.01881,
     "end_time": "2024-11-11T13:41:08.489076",
     "exception": false,
     "start_time": "2024-11-11T13:41:08.470266",
     "status": "completed"
    },
    "tags": []
   },
   "source": [
    "### Output length\n",
    "\n",
    "When generating text with an LLM, the output length affects cost and performance. Generating more tokens increases computation, leading to higher energy consumption, latency, and cost.\n",
    "\n",
    "To stop the model from generating tokens past a limit, you can specify the `max_output_length` parameter when using the Gemini API. Specifying this parameter does not influence the generation of the output tokens, so the output will not become more stylistically or textually succinct, but it will stop generating tokens once the specified length is reached. Prompt engineering may be required to generate a more complete output for your given limit."
   ]
  },
  {
   "cell_type": "code",
   "execution_count": 12,
   "id": "4e2a82cb",
   "metadata": {
    "execution": {
     "iopub.execute_input": "2024-11-11T13:41:08.529554Z",
     "iopub.status.busy": "2024-11-11T13:41:08.528423Z",
     "iopub.status.idle": "2024-11-11T13:41:09.708309Z",
     "shell.execute_reply": "2024-11-11T13:41:09.707196Z"
    },
    "id": "qVf23JsIi9ma",
    "papermill": {
     "duration": 1.20299,
     "end_time": "2024-11-11T13:41:09.711178",
     "exception": false,
     "start_time": "2024-11-11T13:41:08.508188",
     "status": "completed"
    },
    "tags": []
   },
   "outputs": [
    {
     "name": "stdout",
     "output_type": "stream",
     "text": [
      "## The Enduring Olive: A Culinary and Cultural Staple in Modern Society\n",
      "\n",
      "The olive, a small, unassuming fruit, has been a cornerstone of human civilization for millennia. Its presence extends far beyond the realm of mere sustenance, deeply interwoven with cultural traditions, culinary artistry, and even economic landscapes. From the ancient olive groves of the Mediterranean to the modern supermarkets of the world, the olive continues to hold its place as a vital and versatile ingredient, demonstrating its enduring significance in contemporary society.\n",
      "\n",
      "The importance of olives begins with their nutritional value. Rich in healthy fats, particularly monounsaturated fats like oleic acid, olives contribute significantly to heart health, reducing the risk of cardiovascular disease. They are also a good source of vitamin E, a potent antioxidant that combats oxidative stress and protects against cell damage. Additionally, olives are packed with fiber, promoting digestive health and contributing to satiety. These nutritional benefits have solidified the olive's reputation as a healthy and delicious food source, driving its popularity among\n"
     ]
    }
   ],
   "source": [
    "short_model = genai.GenerativeModel(\n",
    "    'gemini-1.5-flash',\n",
    "    generation_config=genai.GenerationConfig(max_output_tokens=200))\n",
    "\n",
    "response = short_model.generate_content('Write a 1000 word essay on the importance of olives in modern society.')\n",
    "print(response.text)"
   ]
  },
  {
   "cell_type": "code",
   "execution_count": 13,
   "id": "11841bea",
   "metadata": {
    "execution": {
     "iopub.execute_input": "2024-11-11T13:41:09.751522Z",
     "iopub.status.busy": "2024-11-11T13:41:09.750499Z",
     "iopub.status.idle": "2024-11-11T13:41:10.792597Z",
     "shell.execute_reply": "2024-11-11T13:41:10.791337Z"
    },
    "id": "W-3kR2F5kdMR",
    "papermill": {
     "duration": 1.064854,
     "end_time": "2024-11-11T13:41:10.795042",
     "exception": false,
     "start_time": "2024-11-11T13:41:09.730188",
     "status": "completed"
    },
    "tags": []
   },
   "outputs": [
    {
     "name": "stdout",
     "output_type": "stream",
     "text": [
      "From ancient groves, a gift so green,\n",
      "The olive's oil, a vibrant sheen.\n",
      "A taste of sun, a touch of earth,\n",
      "In modern kitchens, it gives birth\n",
      "To savory dishes, rich and bold,\n",
      "A culinary story to be told.\n",
      "\n",
      "From salad dressings, crisp and bright,\n",
      "To roasted meats, a savory light,\n",
      "The olive's grace, a gentle hand,\n",
      "Enhances flavors, across the land.\n",
      "\n",
      "So raise a glass, to this small fruit,\n",
      "A symbol of bounty, pure and astute.\n",
      "The olive's role, a vital thread,\n",
      "In modern life, its virtues spread. \n",
      "\n"
     ]
    }
   ],
   "source": [
    "response = short_model.generate_content('Write a short poem on the importance of olives in modern society.')\n",
    "print(response.text)"
   ]
  },
  {
   "cell_type": "markdown",
   "id": "5c6075b1",
   "metadata": {
    "id": "3ZhDSLB6lqqB",
    "papermill": {
     "duration": 0.018522,
     "end_time": "2024-11-11T13:41:10.833043",
     "exception": false,
     "start_time": "2024-11-11T13:41:10.814521",
     "status": "completed"
    },
    "tags": []
   },
   "source": [
    "Explore with your own prompts. Try a prompt with a restrictive output limit and then adjust the prompt to work within that limit."
   ]
  },
  {
   "cell_type": "markdown",
   "id": "63c2509c",
   "metadata": {
    "id": "alx-WaAvir_9",
    "papermill": {
     "duration": 0.018522,
     "end_time": "2024-11-11T13:41:10.870510",
     "exception": false,
     "start_time": "2024-11-11T13:41:10.851988",
     "status": "completed"
    },
    "tags": []
   },
   "source": [
    "### Temperature\n",
    "\n",
    "Temperature controls the degree of randomness in token selection. Higher temperatures result in a higher number of candidate tokens from which the next output token is selected, and can produce more diverse results, while lower temperatures have the opposite effect, such that a temperature of 0 results in greedy decoding, selecting the most probable token at each step.\n",
    "\n",
    "Temperature doesn't provide any guarantees of randomness, but it can be used to \"nudge\" the output somewhat."
   ]
  },
  {
   "cell_type": "code",
   "execution_count": 14,
   "id": "d74b1f56",
   "metadata": {
    "execution": {
     "iopub.execute_input": "2024-11-11T13:41:10.911016Z",
     "iopub.status.busy": "2024-11-11T13:41:10.910210Z",
     "iopub.status.idle": "2024-11-11T13:42:35.382495Z",
     "shell.execute_reply": "2024-11-11T13:42:35.381275Z"
    },
    "id": "SHraGMzqnZqt",
    "papermill": {
     "duration": 84.495692,
     "end_time": "2024-11-11T13:42:35.385477",
     "exception": false,
     "start_time": "2024-11-11T13:41:10.889785",
     "status": "completed"
    },
    "tags": []
   },
   "outputs": [
    {
     "name": "stdout",
     "output_type": "stream",
     "text": [
      "RED. \n",
      "\n",
      "That's a pretty bold statement! Tell me more about what you'd like to know about the color red.  \n",
      "\n",
      "Do you want to explore:\n",
      "\n",
      "* **The symbolism of red?**  Red can mean love, passion, anger, danger, luck, or even communism, depending on the context. \n",
      "* **Red in art and design?**  Red is a powerful color that artists use to convey strong emotions and make their work stand out.\n",
      "* **Red in nature?**  From roses to firetrucks, red occurs naturally in many plants and animals.\n",
      "* **The science behind red?**  We can talk about the physics of light and how our eyes perceive the color red. \n",
      "\n",
      "Let's delve into the world of red together! \n",
      " -------------------------\n",
      "RED. \n",
      "\n",
      "That's a bold color! What can I help you with regarding red? \n",
      "\n",
      "Do you want to know:\n",
      "\n",
      "* **Facts about the color red?** \n",
      "* **What red symbolizes?** \n",
      "* **Red color combinations?**\n",
      "* **Red in different cultures?**\n",
      "* **Red in art, fashion, or design?**\n",
      "\n",
      "Let me know, and I'll be happy to dive deeper! \n",
      " -------------------------\n",
      "\"RED\" is a very open-ended word!  To give you a helpful response, I need more information. What would you like to know about \"RED\"?  For example:\n",
      "\n",
      "* **Do you want to know facts about the color red?** (like its wavelength, cultural significance, or psychological effects?)\n",
      "* **Are you thinking of a specific red object?** (like a red car, red apple, or red rose?)\n",
      "* **Do you want to write a poem, song, or story about red?** \n",
      "\n",
      "Let me know, and I'll do my best to help! \n",
      " -------------------------\n",
      "\"RED\" is a very open-ended word! To give you a helpful response, I need more information. What do you want to know about \"RED\"? For example: \n",
      "\n",
      "* **Is it a color?** Do you want to know the properties of red light, or perhaps the psychological effects of the color red? \n",
      "* **Is it a word?** Are you looking for synonyms, antonyms, or maybe the etymology of the word?\n",
      "* **Is it a reference to something else?** Maybe you're thinking of a specific object or event?\n",
      "\n",
      "Please give me some context, and I can help you! \n",
      " -------------------------\n"
     ]
    }
   ],
   "source": [
    "import time\n",
    "\n",
    "high_temp_model = genai.GenerativeModel(\n",
    "    'gemini-1.5-flash',\n",
    "    generation_config=genai.GenerationConfig(temperature=2.0))\n",
    "\n",
    "for _ in range(4):\n",
    "  response = high_temp_model.generate_content('RED')\n",
    "  if response.parts:\n",
    "    print(response.text, '-' * 25)\n",
    "\n",
    "  # Slow down a bit so we don't get Resource Exhausted errors.\n",
    "  time.sleep(20)"
   ]
  },
  {
   "cell_type": "markdown",
   "id": "524911d1",
   "metadata": {
    "id": "z3J4pCTuof7e",
    "papermill": {
     "duration": 0.019329,
     "end_time": "2024-11-11T13:42:35.424781",
     "exception": false,
     "start_time": "2024-11-11T13:42:35.405452",
     "status": "completed"
    },
    "tags": []
   },
   "source": [
    "Now try the same prompt with temperature set to zero. Note that the output is not completely deterministic, as other parameters affect token selection, but the results will tend to be more stable."
   ]
  },
  {
   "cell_type": "code",
   "execution_count": 15,
   "id": "70012d2b",
   "metadata": {
    "execution": {
     "iopub.execute_input": "2024-11-11T13:42:35.465985Z",
     "iopub.status.busy": "2024-11-11T13:42:35.465175Z",
     "iopub.status.idle": "2024-11-11T13:43:58.944091Z",
     "shell.execute_reply": "2024-11-11T13:43:58.943043Z"
    },
    "id": "clymkWv-PfUZ",
    "papermill": {
     "duration": 83.502424,
     "end_time": "2024-11-11T13:43:58.946655",
     "exception": false,
     "start_time": "2024-11-11T13:42:35.444231",
     "status": "completed"
    },
    "tags": []
   },
   "outputs": [
    {
     "name": "stdout",
     "output_type": "stream",
     "text": [
      "RED is a powerful color!  What would you like to know about it?  \n",
      "\n",
      "For example, I can tell you about:\n",
      "\n",
      "* **The psychology of red:**  How it affects our emotions and behavior.\n",
      "* **Red in art and culture:**  Its symbolism and significance across different cultures.\n",
      "* **Red in nature:**  From the vibrant colors of flowers to the fiery hues of sunsets.\n",
      "* **Red in technology:**  Its use in lasers, LEDs, and other applications.\n",
      "\n",
      "Just let me know what you're interested in! \n",
      " -------------------------\n",
      "RED is a powerful color!  What would you like to know about it?  \n",
      "\n",
      "For example, I can tell you about:\n",
      "\n",
      "* **The psychology of red:**  How it affects our emotions and behavior.\n",
      "* **Red in art and culture:**  Its symbolism and significance across different cultures.\n",
      "* **Red in nature:**  From the vibrant colors of flowers to the fiery hues of sunsets.\n",
      "* **Red in technology:**  Its use in lasers, LEDs, and other applications.\n",
      "\n",
      "Just let me know what you're interested in! \n",
      " -------------------------\n",
      "RED is a powerful color!  What would you like to know about it?  \n",
      "\n",
      "For example, I can tell you about:\n",
      "\n",
      "* **The psychology of red:**  How it affects our emotions and behavior.\n",
      "* **Red in art and culture:**  Its symbolism and significance across different cultures.\n",
      "* **Red in nature:**  From the vibrant colors of flowers to the fiery hues of sunsets.\n",
      "* **Red in technology:**  Its use in lasers, LEDs, and other applications.\n",
      "\n",
      "Just let me know what you're interested in! \n",
      " -------------------------\n",
      "RED is a powerful color!  What would you like to know about it?  \n",
      "\n",
      "For example, I can tell you about:\n",
      "\n",
      "* **The psychology of red:**  How it affects our emotions and behavior.\n",
      "* **Red in art and culture:**  Its symbolism and significance across different cultures.\n",
      "* **Red in nature:**  From the vibrant colors of flowers to the fiery hues of sunsets.\n",
      "* **Red in technology:**  Its use in lasers, LEDs, and other applications.\n",
      "\n",
      "Just let me know what you're interested in! \n",
      " -------------------------\n"
     ]
    }
   ],
   "source": [
    "low_temp_model = genai.GenerativeModel(\n",
    "    'gemini-1.5-flash',\n",
    "    generation_config=genai.GenerationConfig(temperature=0.0))\n",
    "\n",
    "for _ in range(4):\n",
    "  response = low_temp_model.generate_content('RED')\n",
    "  if response.parts:\n",
    "    print(response.text, '-' * 25)\n",
    "\n",
    "  time.sleep(20)"
   ]
  },
  {
   "cell_type": "markdown",
   "id": "49ae9caa",
   "metadata": {
    "id": "St5nt3vzitsZ",
    "papermill": {
     "duration": 0.019629,
     "end_time": "2024-11-11T13:43:58.986171",
     "exception": false,
     "start_time": "2024-11-11T13:43:58.966542",
     "status": "completed"
    },
    "tags": []
   },
   "source": [
    "### Top-K and top-P\n",
    "\n",
    "Like temperature, top-K and top-P parameters are also used to control the diversity of the model's output.\n",
    "\n",
    "Top-K is a positive integer that defines the number of most probable tokens from which to select the output token. A top-K of 1 selects a single token, performing greedy decoding.\n",
    "\n",
    "Top-P defines the probability threshold that, once cumulatively exceeded, tokens stop being selected as candidates. A top-P of 0 is typically equivalent to greedy decoding, and a top-P of 1 typically selects every token in the model's vocabulary.\n",
    "\n",
    "When both are supplied, the Gemini API will filter top-K tokens first, then top-P and then finally sample from the candidate tokens using the supplied temperature.\n",
    "\n",
    "Run this example a number of times, change the settings and observe the change in output."
   ]
  },
  {
   "cell_type": "code",
   "execution_count": 16,
   "id": "36e2897d",
   "metadata": {
    "execution": {
     "iopub.execute_input": "2024-11-11T13:43:59.027546Z",
     "iopub.status.busy": "2024-11-11T13:43:59.027151Z",
     "iopub.status.idle": "2024-11-11T13:44:01.756792Z",
     "shell.execute_reply": "2024-11-11T13:44:01.755534Z"
    },
    "id": "lPlzpEavUV8F",
    "papermill": {
     "duration": 2.753402,
     "end_time": "2024-11-11T13:44:01.759460",
     "exception": false,
     "start_time": "2024-11-11T13:43:59.006058",
     "status": "completed"
    },
    "tags": []
   },
   "outputs": [
    {
     "name": "stdout",
     "output_type": "stream",
     "text": [
      "Whiskers twitched, a shiver ran down Mittens' spine. The humans were gone, leaving the back door ajar, a gaping maw leading to the unknown. It was a rare occurrence, a chance she wouldn't miss. Adventure called.\n",
      "\n",
      "The garden was a jungle, overgrown with ferns and fragrant with honeysuckle. Birds chirped, squirrels chattered, a world away from the sterile comfort of her humans' home. Mittens, a sleek black cat with emerald eyes, padded through the undergrowth, a predator in her own right. \n",
      "\n",
      "A flash of blue caught her eye, a plump, blue jay perched on a fence post. Mittens stalked, a silent hunter, but the bird, clever and quick, took flight just as she was about to pounce. It soared, a blur of blue against the bright summer sky, and Mittens, for the first time, felt a pang of longing, a yearning to be free, to fly.\n",
      "\n",
      "Her journey led her to the creek, a silver ribbon winding through the green. A family of ducks waddled by, their chicks quacking excitedly. Mittens, mesmerized by the ripples of the water, dipped her paw cautiously. It was cold, refreshing, and she felt a strange urge to leap in, to swim. But caution prevailed, and she settled for a drink, her whiskers trembling with the cool water.\n",
      "\n",
      "The sun dipped below the horizon, painting the sky in hues of orange and purple. Hunger gnawed at Mittens' stomach, and she began to miss the warmth of her humans' lap, the comforting scent of their presence.  \n",
      "\n",
      "As the first stars appeared, she heard a familiar sound, the gentle click of the gate opening. Her humans were home. A feeling of relief washed over her, a reminder of the comfort of routine. \n",
      "\n",
      "She slunk back into the house, her tail held high, her emerald eyes gleaming with the thrill of her adventure. She padded through the house, a familiar route now imbued with the memory of rustling leaves, the chirping of birds, and the cool, refreshing water of the creek. \n",
      "\n",
      "Mittens, the sleek black cat, nestled into her favorite spot on the sofa, a contented purr rumbling in her chest. The adventure was over, but the world beyond the garden, the whispers of the wild, would forever linger in her heart. \n",
      "\n"
     ]
    }
   ],
   "source": [
    "model = genai.GenerativeModel(\n",
    "    'gemini-1.5-flash-001',\n",
    "    generation_config=genai.GenerationConfig(\n",
    "        # These are the default values for gemini-1.5-flash-001.\n",
    "        temperature=1.0,\n",
    "        top_k=64,\n",
    "        top_p=0.95,\n",
    "    ))\n",
    "\n",
    "story_prompt = \"You are a creative writer. Write a short story about a cat who goes on an adventure.\"\n",
    "response = model.generate_content(story_prompt)\n",
    "print(response.text)"
   ]
  },
  {
   "cell_type": "markdown",
   "id": "c4c5bcbf",
   "metadata": {
    "id": "rMrYs1koY6DX",
    "papermill": {
     "duration": 0.01982,
     "end_time": "2024-11-11T13:44:01.799794",
     "exception": false,
     "start_time": "2024-11-11T13:44:01.779974",
     "status": "completed"
    },
    "tags": []
   },
   "source": [
    "## Prompting\n",
    "\n",
    "This section contains some prompts from the chapter for you to try out directly in the API. Try changing the text here to see how each prompt performs with different instructions, more examples, or any other changes you can think of."
   ]
  },
  {
   "cell_type": "markdown",
   "id": "31734afd",
   "metadata": {
    "id": "hhj_tQidZJP7",
    "papermill": {
     "duration": 0.019601,
     "end_time": "2024-11-11T13:44:01.839226",
     "exception": false,
     "start_time": "2024-11-11T13:44:01.819625",
     "status": "completed"
    },
    "tags": []
   },
   "source": [
    "### Zero-shot\n",
    "\n",
    "Zero-shot prompts are prompts that describe the request for the model directly.\n",
    "\n",
    "<table align=left>\n",
    "  <td>\n",
    "    <a target=\"_blank\" href=\"https://aistudio.google.com/prompts/1gzKKgDHwkAvexG5Up0LMtl1-6jKMKe4g\"><img src=\"https://ai.google.dev/site-assets/images/marketing/home/icon-ais.png\" style=\"height: 24px\" height=24/> Open in AI Studio</a>\n",
    "  </td>\n",
    "</table>"
   ]
  },
  {
   "cell_type": "code",
   "execution_count": 17,
   "id": "070775fa",
   "metadata": {
    "execution": {
     "iopub.execute_input": "2024-11-11T13:44:01.881653Z",
     "iopub.status.busy": "2024-11-11T13:44:01.880599Z",
     "iopub.status.idle": "2024-11-11T13:44:02.244867Z",
     "shell.execute_reply": "2024-11-11T13:44:02.243658Z"
    },
    "id": "1_t-cwnDZzbH",
    "papermill": {
     "duration": 0.388136,
     "end_time": "2024-11-11T13:44:02.247376",
     "exception": false,
     "start_time": "2024-11-11T13:44:01.859240",
     "status": "completed"
    },
    "tags": []
   },
   "outputs": [
    {
     "name": "stdout",
     "output_type": "stream",
     "text": [
      "Sentiment: **POSITIVE**\n"
     ]
    }
   ],
   "source": [
    "model = genai.GenerativeModel(\n",
    "    'gemini-1.5-flash-001',\n",
    "    generation_config=genai.GenerationConfig(\n",
    "        temperature=0.1,\n",
    "        top_p=1,\n",
    "        max_output_tokens=5,\n",
    "    ))\n",
    "\n",
    "zero_shot_prompt = \"\"\"Classify movie reviews as POSITIVE, NEUTRAL or NEGATIVE.\n",
    "Review: \"Her\" is a disturbing study revealing the direction\n",
    "humanity is headed if AI is allowed to keep evolving,\n",
    "unchecked. I wish there were more movies like this masterpiece.\n",
    "Sentiment: \"\"\"\n",
    "\n",
    "response = model.generate_content(zero_shot_prompt)\n",
    "print(response.text)"
   ]
  },
  {
   "cell_type": "markdown",
   "id": "8b1349e6",
   "metadata": {
    "id": "3b5568bdeb11",
    "papermill": {
     "duration": 0.020895,
     "end_time": "2024-11-11T13:44:02.288441",
     "exception": false,
     "start_time": "2024-11-11T13:44:02.267546",
     "status": "completed"
    },
    "tags": []
   },
   "source": [
    "#### Enum mode\n",
    "\n",
    "The models are trained to generate text, and can sometimes produce more text than you may wish for. In the preceding example, the model will output the label, sometimes it can include a preceding \"Sentiment\" label, and without an output token limit, it may also add explanatory text afterwards.\n",
    "\n",
    "The Gemini API has an [Enum mode](https://github.com/google-gemini/cookbook/blob/main/quickstarts/Enum.ipynb) feature that allows you to constrain the output to a fixed set of values."
   ]
  },
  {
   "cell_type": "code",
   "execution_count": 18,
   "id": "00f54bdf",
   "metadata": {
    "execution": {
     "iopub.execute_input": "2024-11-11T13:44:02.331086Z",
     "iopub.status.busy": "2024-11-11T13:44:02.329976Z",
     "iopub.status.idle": "2024-11-11T13:44:02.928111Z",
     "shell.execute_reply": "2024-11-11T13:44:02.926637Z"
    },
    "id": "ad118a56c598",
    "papermill": {
     "duration": 0.622319,
     "end_time": "2024-11-11T13:44:02.930705",
     "exception": false,
     "start_time": "2024-11-11T13:44:02.308386",
     "status": "completed"
    },
    "tags": []
   },
   "outputs": [
    {
     "name": "stdout",
     "output_type": "stream",
     "text": [
      "positive\n"
     ]
    }
   ],
   "source": [
    "import enum\n",
    "\n",
    "class Sentiment(enum.Enum):\n",
    "    POSITIVE = \"positive\"\n",
    "    NEUTRAL = \"neutral\"\n",
    "    NEGATIVE = \"negative\"\n",
    "\n",
    "\n",
    "model = genai.GenerativeModel(\n",
    "    'gemini-1.5-flash-001',\n",
    "    generation_config=genai.GenerationConfig(\n",
    "        response_mime_type=\"text/x.enum\",\n",
    "        response_schema=Sentiment\n",
    "    ))\n",
    "\n",
    "response = model.generate_content(zero_shot_prompt)\n",
    "print(response.text)"
   ]
  },
  {
   "cell_type": "markdown",
   "id": "ff8e0172",
   "metadata": {
    "id": "0udiSwNbv45W",
    "papermill": {
     "duration": 0.020541,
     "end_time": "2024-11-11T13:44:02.971621",
     "exception": false,
     "start_time": "2024-11-11T13:44:02.951080",
     "status": "completed"
    },
    "tags": []
   },
   "source": [
    "### One-shot and few-shot\n",
    "\n",
    "Providing an example of the expected response is known as a \"one-shot\" prompt. When you provide multiple examples, it is a \"few-shot\" prompt.\n",
    "\n",
    "<table align=left>\n",
    "  <td>\n",
    "    <a target=\"_blank\" href=\"https://aistudio.google.com/prompts/1jjWkjUSoMXmLvMJ7IzADr_GxHPJVV2bg\"><img src=\"https://ai.google.dev/site-assets/images/marketing/home/icon-ais.png\" style=\"height: 24px\" height=24/> Open in AI Studio</a>\n",
    "  </td>\n",
    "</table>\n"
   ]
  },
  {
   "cell_type": "code",
   "execution_count": 19,
   "id": "a3ec2206",
   "metadata": {
    "execution": {
     "iopub.execute_input": "2024-11-11T13:44:03.014262Z",
     "iopub.status.busy": "2024-11-11T13:44:03.013425Z",
     "iopub.status.idle": "2024-11-11T13:44:03.463846Z",
     "shell.execute_reply": "2024-11-11T13:44:03.462554Z"
    },
    "id": "hd4mVUukwOKZ",
    "papermill": {
     "duration": 0.474323,
     "end_time": "2024-11-11T13:44:03.466403",
     "exception": false,
     "start_time": "2024-11-11T13:44:02.992080",
     "status": "completed"
    },
    "tags": []
   },
   "outputs": [
    {
     "name": "stdout",
     "output_type": "stream",
     "text": [
      "```json\n",
      "{\n",
      "\"size\": \"large\",\n",
      "\"type\": \"normal\",\n",
      "\"ingredients\": [\"cheese\", \"pineapple\"]\n",
      "}\n",
      "``` \n",
      "\n"
     ]
    }
   ],
   "source": [
    "model = genai.GenerativeModel(\n",
    "    'gemini-1.5-flash-latest',\n",
    "    generation_config=genai.GenerationConfig(\n",
    "        temperature=0.1,\n",
    "        top_p=1,\n",
    "        max_output_tokens=250,\n",
    "    ))\n",
    "\n",
    "few_shot_prompt = \"\"\"Parse a customer's pizza order into valid JSON:\n",
    "\n",
    "EXAMPLE:\n",
    "I want a small pizza with cheese, tomato sauce, and pepperoni.\n",
    "JSON Response:\n",
    "```\n",
    "{\n",
    "\"size\": \"small\",\n",
    "\"type\": \"normal\",\n",
    "\"ingredients\": [\"cheese\", \"tomato sauce\", \"peperoni\"]\n",
    "}\n",
    "```\n",
    "\n",
    "EXAMPLE:\n",
    "Can I get a large pizza with tomato sauce, basil and mozzarella\n",
    "JSON Response:\n",
    "```\n",
    "{\n",
    "\"size\": \"large\",\n",
    "\"type\": \"normal\",\n",
    "\"ingredients\": [\"tomato sauce\", \"basil\", \"mozzarella\"]\n",
    "}\n",
    "\n",
    "ORDER:\n",
    "\"\"\"\n",
    "\n",
    "customer_order = \"Give me a large with cheese & pineapple\"\n",
    "\n",
    "\n",
    "response = model.generate_content([few_shot_prompt, customer_order])\n",
    "print(response.text)"
   ]
  },
  {
   "cell_type": "markdown",
   "id": "410af501",
   "metadata": {
    "id": "021293096f08",
    "papermill": {
     "duration": 0.020203,
     "end_time": "2024-11-11T13:44:03.507105",
     "exception": false,
     "start_time": "2024-11-11T13:44:03.486902",
     "status": "completed"
    },
    "tags": []
   },
   "source": [
    "#### JSON mode\n",
    "\n",
    "To provide control over the schema, and to ensure that you only receive JSON (with no other text or markdown), you can use the Gemini API's [JSON mode](https://github.com/google-gemini/cookbook/blob/main/quickstarts/JSON_mode.ipynb). This forces the model to constrain decoding, such that token selection is guided by the supplied schema."
   ]
  },
  {
   "cell_type": "code",
   "execution_count": 20,
   "id": "09eb64c5",
   "metadata": {
    "execution": {
     "iopub.execute_input": "2024-11-11T13:44:03.549638Z",
     "iopub.status.busy": "2024-11-11T13:44:03.549177Z",
     "iopub.status.idle": "2024-11-11T13:44:04.065658Z",
     "shell.execute_reply": "2024-11-11T13:44:04.064075Z"
    },
    "id": "50fbf0260912",
    "papermill": {
     "duration": 0.541203,
     "end_time": "2024-11-11T13:44:04.068514",
     "exception": false,
     "start_time": "2024-11-11T13:44:03.527311",
     "status": "completed"
    },
    "tags": []
   },
   "outputs": [
    {
     "name": "stdout",
     "output_type": "stream",
     "text": [
      "{\"ingredients\": [\"apple\", \"chocolate\"], \"size\": \"large\", \"type\": \"dessert\"}\n",
      "\n"
     ]
    }
   ],
   "source": [
    "import typing_extensions as typing\n",
    "\n",
    "class PizzaOrder(typing.TypedDict):\n",
    "    size: str\n",
    "    ingredients: list[str]\n",
    "    type: str\n",
    "\n",
    "\n",
    "model = genai.GenerativeModel(\n",
    "    'gemini-1.5-flash-latest',\n",
    "    generation_config=genai.GenerationConfig(\n",
    "        temperature=0.1,\n",
    "        response_mime_type=\"application/json\",\n",
    "        response_schema=PizzaOrder,\n",
    "    ))\n",
    "\n",
    "response = model.generate_content(\"Can I have a large dessert pizza with apple and chocolate\")\n",
    "print(response.text)"
   ]
  },
  {
   "cell_type": "markdown",
   "id": "16153816",
   "metadata": {
    "id": "4a93e338e57c",
    "papermill": {
     "duration": 0.02106,
     "end_time": "2024-11-11T13:44:04.110444",
     "exception": false,
     "start_time": "2024-11-11T13:44:04.089384",
     "status": "completed"
    },
    "tags": []
   },
   "source": [
    "### Chain of Thought (CoT)\n",
    "\n",
    "Direct prompting on LLMs can return answers quickly and (in terms of output token usage) efficiently, but they can be prone to hallucination. The answer may \"look\" correct (in terms of language and syntax) but is incorrect in terms of factuality and reasoning.\n",
    "\n",
    "Chain-of-Thought prompting is a technique where you instruct the model to output intermediate reasoning steps, and it typically gets better results, especially when combined with few-shot examples. It is worth noting that this technique doesn't completely eliminate hallucinations, and that it tends to cost more to run, due to the increased token count.\n",
    "\n",
    "As models like the Gemini family are trained to be \"chatty\" and provide reasoning steps, you can ask the model to be more direct in the prompt."
   ]
  },
  {
   "cell_type": "code",
   "execution_count": 21,
   "id": "4d240a7b",
   "metadata": {
    "execution": {
     "iopub.execute_input": "2024-11-11T13:44:04.153416Z",
     "iopub.status.busy": "2024-11-11T13:44:04.152974Z",
     "iopub.status.idle": "2024-11-11T13:44:04.535153Z",
     "shell.execute_reply": "2024-11-11T13:44:04.533643Z"
    },
    "id": "5715555db1c1",
    "papermill": {
     "duration": 0.406466,
     "end_time": "2024-11-11T13:44:04.537690",
     "exception": false,
     "start_time": "2024-11-11T13:44:04.131224",
     "status": "completed"
    },
    "tags": []
   },
   "outputs": [
    {
     "name": "stdout",
     "output_type": "stream",
     "text": [
      "48 \n",
      "\n"
     ]
    }
   ],
   "source": [
    "prompt = \"\"\"When I was 4 years old, my partner was 3 times my age. Now, I\n",
    "am 20 years old. How old is my partner? Return the answer immediately.\"\"\"\n",
    "\n",
    "model = genai.GenerativeModel('gemini-1.5-flash-latest')\n",
    "response = model.generate_content(prompt)\n",
    "\n",
    "print(response.text)"
   ]
  },
  {
   "cell_type": "markdown",
   "id": "b8f7c691",
   "metadata": {
    "id": "e12b19677bfd",
    "papermill": {
     "duration": 0.020314,
     "end_time": "2024-11-11T13:44:04.578790",
     "exception": false,
     "start_time": "2024-11-11T13:44:04.558476",
     "status": "completed"
    },
    "tags": []
   },
   "source": [
    "Now try the same approach, but indicate to the model that it should \"think step by step\"."
   ]
  },
  {
   "cell_type": "code",
   "execution_count": 22,
   "id": "6b07b122",
   "metadata": {
    "execution": {
     "iopub.execute_input": "2024-11-11T13:44:04.622138Z",
     "iopub.status.busy": "2024-11-11T13:44:04.621102Z",
     "iopub.status.idle": "2024-11-11T13:44:05.295633Z",
     "shell.execute_reply": "2024-11-11T13:44:05.294318Z"
    },
    "id": "ffd7536a481f",
    "papermill": {
     "duration": 0.69874,
     "end_time": "2024-11-11T13:44:05.298019",
     "exception": false,
     "start_time": "2024-11-11T13:44:04.599279",
     "status": "completed"
    },
    "tags": []
   },
   "outputs": [
    {
     "name": "stdout",
     "output_type": "stream",
     "text": [
      "Here's how to solve this:\n",
      "\n",
      "* **When you were 4:** Your partner was 3 times your age, meaning they were 4 * 3 = 12 years old.\n",
      "* **Age difference:** This means your partner is 12 - 4 = 8 years older than you.\n",
      "* **Current age:** Since you are now 20, your partner is 20 + 8 = **28 years old**. \n",
      "\n"
     ]
    }
   ],
   "source": [
    "prompt = \"\"\"When I was 4 years old, my partner was 3 times my age. Now,\n",
    "I am 20 years old. How old is my partner? Let's think step by step.\"\"\"\n",
    "\n",
    "response = model.generate_content(prompt)\n",
    "print(response.text)"
   ]
  },
  {
   "cell_type": "markdown",
   "id": "0569ac44",
   "metadata": {
    "id": "oiLgBQJj0V53",
    "papermill": {
     "duration": 0.020338,
     "end_time": "2024-11-11T13:44:05.338964",
     "exception": false,
     "start_time": "2024-11-11T13:44:05.318626",
     "status": "completed"
    },
    "tags": []
   },
   "source": [
    "### ReAct: Reason and act\n",
    "\n",
    "In this example you will run a ReAct prompt directly in the Gemini API and perform the searching steps yourself. As this prompt follows a well-defined structure, there are frameworks available that wrap the prompt into easier-to-use APIs that make tool calls automatically, such as the LangChain example from the chapter.\n",
    "\n",
    "To try this out with the Wikipedia search engine, check out the [Searching Wikipedia with ReAct](https://github.com/google-gemini/cookbook/blob/main/examples/Search_Wikipedia_using_ReAct.ipynb) cookbook example.\n",
    "\n",
    "\n",
    "> Note: The prompt and in-context examples used here are from [https://github.com/ysymyth/ReAct](https://github.com/ysymyth/ReAct) which is published under a [MIT license](https://opensource.org/licenses/MIT), Copyright (c) 2023 Shunyu Yao.\n",
    "\n",
    "<table align=left>\n",
    "  <td>\n",
    "    <a target=\"_blank\" href=\"https://aistudio.google.com/prompts/18oo63Lwosd-bQ6Ay51uGogB3Wk3H8XMO\"><img src=\"https://ai.google.dev/site-assets/images/marketing/home/icon-ais.png\" style=\"height: 24px\" height=24/> Open in AI Studio</a>\n",
    "  </td>\n",
    "</table>\n"
   ]
  },
  {
   "cell_type": "code",
   "execution_count": 23,
   "id": "3c88fb69",
   "metadata": {
    "execution": {
     "iopub.execute_input": "2024-11-11T13:44:05.382496Z",
     "iopub.status.busy": "2024-11-11T13:44:05.382068Z",
     "iopub.status.idle": "2024-11-11T13:44:05.390893Z",
     "shell.execute_reply": "2024-11-11T13:44:05.389658Z"
    },
    "id": "cBgyNJ5z0VSs",
    "papermill": {
     "duration": 0.033925,
     "end_time": "2024-11-11T13:44:05.393399",
     "exception": false,
     "start_time": "2024-11-11T13:44:05.359474",
     "status": "completed"
    },
    "tags": []
   },
   "outputs": [],
   "source": [
    "model_instructions = \"\"\"\n",
    "Solve a question answering task with interleaving Thought, Action, Observation steps. Thought can reason about the current situation,\n",
    "Observation is understanding relevant information from an Action's output and Action can be one of three types:\n",
    " (1) <search>entity</search>, which searches the exact entity on Wikipedia and returns the first paragraph if it exists. If not, it\n",
    "     will return some similar entities to search and you can try to search the information from those topics.\n",
    " (2) <lookup>keyword</lookup>, which returns the next sentence containing keyword in the current context. This only does exact matches,\n",
    "     so keep your searches short.\n",
    " (3) <finish>answer</finish>, which returns the answer and finishes the task.\n",
    "\"\"\"\n",
    "\n",
    "example1 = \"\"\"Question\n",
    "Musician and satirist Allie Goertz wrote a song about the \"The Simpsons\" character Milhouse, who Matt Groening named after who?\n",
    "\n",
    "Thought 1\n",
    "The question simplifies to \"The Simpsons\" character Milhouse is named after who. I only need to search Milhouse and find who it is named after.\n",
    "\n",
    "Action 1\n",
    "<search>Milhouse</search>\n",
    "\n",
    "Observation 1\n",
    "Milhouse Mussolini Van Houten is a recurring character in the Fox animated television series The Simpsons voiced by Pamela Hayden and created by Matt Groening.\n",
    "\n",
    "Thought 2\n",
    "The paragraph does not tell who Milhouse is named after, maybe I can look up \"named after\".\n",
    "\n",
    "Action 2\n",
    "<lookup>named after</lookup>\n",
    "\n",
    "Observation 2\n",
    "Milhouse was named after U.S. president Richard Nixon, whose middle name was Milhous.\n",
    "\n",
    "Thought 3\n",
    "Milhouse was named after U.S. president Richard Nixon, so the answer is Richard Nixon.\n",
    "\n",
    "Action 3\n",
    "<finish>Richard Nixon</finish>\n",
    "\"\"\"\n",
    "\n",
    "example2 = \"\"\"Question\n",
    "What is the elevation range for the area that the eastern sector of the Colorado orogeny extends into?\n",
    "\n",
    "Thought 1\n",
    "I need to search Colorado orogeny, find the area that the eastern sector of the Colorado orogeny extends into, then find the elevation range of the area.\n",
    "\n",
    "Action 1\n",
    "<search>Colorado orogeny</search>\n",
    "\n",
    "Observation 1\n",
    "The Colorado orogeny was an episode of mountain building (an orogeny) in Colorado and surrounding areas.\n",
    "\n",
    "Thought 2\n",
    "It does not mention the eastern sector. So I need to look up eastern sector.\n",
    "\n",
    "Action 2\n",
    "<lookup>eastern sector</lookup>\n",
    "\n",
    "Observation 2\n",
    "The eastern sector extends into the High Plains and is called the Central Plains orogeny.\n",
    "\n",
    "Thought 3\n",
    "The eastern sector of Colorado orogeny extends into the High Plains. So I need to search High Plains and find its elevation range.\n",
    "\n",
    "Action 3\n",
    "<search>High Plains</search>\n",
    "\n",
    "Observation 3\n",
    "High Plains refers to one of two distinct land regions\n",
    "\n",
    "Thought 4\n",
    "I need to instead search High Plains (United States).\n",
    "\n",
    "Action 4\n",
    "<search>High Plains (United States)</search>\n",
    "\n",
    "Observation 4\n",
    "The High Plains are a subregion of the Great Plains. From east to west, the High Plains rise in elevation from around 1,800 to 7,000 ft (550 to 2,130m).\n",
    "\n",
    "Thought 5\n",
    "High Plains rise in elevation from around 1,800 to 7,000 ft, so the answer is 1,800 to 7,000 ft.\n",
    "\n",
    "Action 5\n",
    "<finish>1,800 to 7,000 ft</finish>\n",
    "\"\"\"\n",
    "\n",
    "# Come up with more examples yourself, or take a look through https://github.com/ysymyth/ReAct/"
   ]
  },
  {
   "cell_type": "markdown",
   "id": "eab34099",
   "metadata": {
    "id": "C3wbfstjTgey",
    "papermill": {
     "duration": 0.020772,
     "end_time": "2024-11-11T13:44:05.435097",
     "exception": false,
     "start_time": "2024-11-11T13:44:05.414325",
     "status": "completed"
    },
    "tags": []
   },
   "source": [
    "To capture a single step at a time, while ignoring any hallucinated Observation steps, you will use `stop_sequences` to end the generation process. The steps are `Thought`, `Action`, `Observation`, in that order."
   ]
  },
  {
   "cell_type": "code",
   "execution_count": 24,
   "id": "fa140aac",
   "metadata": {
    "execution": {
     "iopub.execute_input": "2024-11-11T13:44:05.478342Z",
     "iopub.status.busy": "2024-11-11T13:44:05.477938Z",
     "iopub.status.idle": "2024-11-11T13:44:07.161776Z",
     "shell.execute_reply": "2024-11-11T13:44:07.160649Z"
    },
    "id": "8mxrXRkRTdXm",
    "papermill": {
     "duration": 1.708836,
     "end_time": "2024-11-11T13:44:07.164588",
     "exception": false,
     "start_time": "2024-11-11T13:44:05.455752",
     "status": "completed"
    },
    "tags": []
   },
   "outputs": [
    {
     "name": "stdout",
     "output_type": "stream",
     "text": [
      "Thought 1\n",
      "I need to find the NLP paper on transformers and then find the authors and their ages.\n",
      "\n",
      "Action 1\n",
      "<search>transformers NLP paper</search>\n",
      "\n"
     ]
    }
   ],
   "source": [
    "question = \"\"\"Question\n",
    "Who was the youngest author listed on the transformers NLP paper?\n",
    "\"\"\"\n",
    "\n",
    "model = genai.GenerativeModel('gemini-1.5-flash-latest')\n",
    "react_chat = model.start_chat()\n",
    "\n",
    "# You will perform the Action, so generate up to, but not including, the Observation.\n",
    "config = genai.GenerationConfig(stop_sequences=[\"\\nObservation\"])\n",
    "\n",
    "resp = react_chat.send_message(\n",
    "    [model_instructions, example1, example2, question],\n",
    "    generation_config=config)\n",
    "print(resp.text)"
   ]
  },
  {
   "cell_type": "markdown",
   "id": "2727709d",
   "metadata": {
    "id": "aW2PIdLbVv3l",
    "papermill": {
     "duration": 0.020549,
     "end_time": "2024-11-11T13:44:07.205832",
     "exception": false,
     "start_time": "2024-11-11T13:44:07.185283",
     "status": "completed"
    },
    "tags": []
   },
   "source": [
    "Now you can perform this research yourself and supply it back to the model."
   ]
  },
  {
   "cell_type": "code",
   "execution_count": 25,
   "id": "a9117f0b",
   "metadata": {
    "execution": {
     "iopub.execute_input": "2024-11-11T13:44:07.249500Z",
     "iopub.status.busy": "2024-11-11T13:44:07.248714Z",
     "iopub.status.idle": "2024-11-11T13:44:07.907429Z",
     "shell.execute_reply": "2024-11-11T13:44:07.906108Z"
    },
    "id": "mLMc0DZaV9g2",
    "papermill": {
     "duration": 0.683273,
     "end_time": "2024-11-11T13:44:07.909934",
     "exception": false,
     "start_time": "2024-11-11T13:44:07.226661",
     "status": "completed"
    },
    "tags": []
   },
   "outputs": [
    {
     "name": "stdout",
     "output_type": "stream",
     "text": [
      "Thought 2\n",
      "The observation shows the authors, but I need to find their ages to figure out who's the youngest. Searching for the ages is tricky, so I'll look up if there's a list of authors and ages.\n",
      "\n",
      "Action 2\n",
      "<lookup>list of authors</lookup>\n",
      "\n"
     ]
    }
   ],
   "source": [
    "observation = \"\"\"Observation 1\n",
    "[1706.03762] Attention Is All You Need\n",
    "Ashish Vaswani, Noam Shazeer, Niki Parmar, Jakob Uszkoreit, Llion Jones, Aidan N. Gomez, Lukasz Kaiser, Illia Polosukhin\n",
    "We propose a new simple network architecture, the Transformer, based solely on attention mechanisms, dispensing with recurrence and convolutions entirely.\n",
    "\"\"\"\n",
    "resp = react_chat.send_message(observation, generation_config=config)\n",
    "print(resp.text)"
   ]
  },
  {
   "cell_type": "markdown",
   "id": "13484890",
   "metadata": {
    "id": "bo0tzf4nX6dA",
    "papermill": {
     "duration": 0.020546,
     "end_time": "2024-11-11T13:44:07.951358",
     "exception": false,
     "start_time": "2024-11-11T13:44:07.930812",
     "status": "completed"
    },
    "tags": []
   },
   "source": [
    "This process repeats until the `<finish>` action is reached. You can continue running this yourself if you like, or try the [Wikipedia example](https://github.com/google-gemini/cookbook/blob/main/examples/Search_Wikipedia_using_ReAct.ipynb) to see a fully automated ReAct system at work."
   ]
  },
  {
   "cell_type": "markdown",
   "id": "b61eff41",
   "metadata": {
    "id": "jPiZ_eIIaVPt",
    "papermill": {
     "duration": 0.02124,
     "end_time": "2024-11-11T13:44:07.993552",
     "exception": false,
     "start_time": "2024-11-11T13:44:07.972312",
     "status": "completed"
    },
    "tags": []
   },
   "source": [
    "## Code prompting"
   ]
  },
  {
   "cell_type": "markdown",
   "id": "7f1a0bf6",
   "metadata": {
    "id": "ZinKamwXeR6C",
    "papermill": {
     "duration": 0.021225,
     "end_time": "2024-11-11T13:44:08.035731",
     "exception": false,
     "start_time": "2024-11-11T13:44:08.014506",
     "status": "completed"
    },
    "tags": []
   },
   "source": [
    "### Generating code\n",
    "\n",
    "The Gemini family of models can be used to generate code, configuration and scripts. Generating code can be helpful when learning to code, learning a new language or for rapidly generating a first draft.\n",
    "\n",
    "It's important to be aware that since LLMs can't reason, and can repeat training data, it's essential to read and test your code first, and comply with any relevant licenses.\n",
    "\n",
    "<table align=left>\n",
    "  <td>\n",
    "    <a target=\"_blank\" href=\"https://aistudio.google.com/prompts/1YX71JGtzDjXQkgdes8bP6i3oH5lCRKxv\"><img src=\"https://ai.google.dev/site-assets/images/marketing/home/icon-ais.png\" style=\"height: 24px\" height=24/> Open in AI Studio</a>\n",
    "  </td>\n",
    "</table>"
   ]
  },
  {
   "cell_type": "code",
   "execution_count": 26,
   "id": "29700a20",
   "metadata": {
    "execution": {
     "iopub.execute_input": "2024-11-11T13:44:08.079582Z",
     "iopub.status.busy": "2024-11-11T13:44:08.078772Z",
     "iopub.status.idle": "2024-11-11T13:44:08.608854Z",
     "shell.execute_reply": "2024-11-11T13:44:08.607654Z"
    },
    "id": "fOQP9pqmeUO1",
    "papermill": {
     "duration": 0.555533,
     "end_time": "2024-11-11T13:44:08.612194",
     "exception": false,
     "start_time": "2024-11-11T13:44:08.056661",
     "status": "completed"
    },
    "tags": []
   },
   "outputs": [
    {
     "data": {
      "text/markdown": [
       "```python\n",
       "def factorial(n):\n",
       "  if n == 0:\n",
       "    return 1\n",
       "  else:\n",
       "    return n * factorial(n-1)\n",
       "```"
      ],
      "text/plain": [
       "<IPython.core.display.Markdown object>"
      ]
     },
     "execution_count": 26,
     "metadata": {},
     "output_type": "execute_result"
    }
   ],
   "source": [
    "model = genai.GenerativeModel(\n",
    "    'gemini-1.5-flash-latest',\n",
    "    generation_config=genai.GenerationConfig(\n",
    "        temperature=1,\n",
    "        top_p=1,\n",
    "        max_output_tokens=1024,\n",
    "    ))\n",
    "\n",
    "# Gemini 1.5 models are very chatty, so it helps to specify they stick to the code.\n",
    "code_prompt = \"\"\"\n",
    "Write a Python function to calculate the factorial of a number. No explanation, provide only the code.\n",
    "\"\"\"\n",
    "\n",
    "response = model.generate_content(code_prompt)\n",
    "Markdown(response.text)"
   ]
  },
  {
   "cell_type": "markdown",
   "id": "e8de1919",
   "metadata": {
    "id": "wlBMWSFhgVRQ",
    "papermill": {
     "duration": 0.021281,
     "end_time": "2024-11-11T13:44:08.660584",
     "exception": false,
     "start_time": "2024-11-11T13:44:08.639303",
     "status": "completed"
    },
    "tags": []
   },
   "source": [
    "### Code execution\n",
    "\n",
    "The Gemini API can automatically run generated code too, and will return the output.\n",
    "\n",
    "<table align=left>\n",
    "  <td>\n",
    "    <a target=\"_blank\" href=\"https://aistudio.google.com/prompts/11veFr_VYEwBWcLkhNLr-maCG0G8sS_7Z\"><img src=\"https://ai.google.dev/site-assets/images/marketing/home/icon-ais.png\" style=\"height: 24px\" height=24/> Open in AI Studio</a>\n",
    "  </td>\n",
    "</table>"
   ]
  },
  {
   "cell_type": "code",
   "execution_count": 27,
   "id": "1c4f19a0",
   "metadata": {
    "execution": {
     "iopub.execute_input": "2024-11-11T13:44:08.705937Z",
     "iopub.status.busy": "2024-11-11T13:44:08.705462Z",
     "iopub.status.idle": "2024-11-11T13:44:11.550981Z",
     "shell.execute_reply": "2024-11-11T13:44:11.549900Z"
    },
    "id": "jT3OfWYfhjRL",
    "papermill": {
     "duration": 2.870993,
     "end_time": "2024-11-11T13:44:11.553516",
     "exception": false,
     "start_time": "2024-11-11T13:44:08.682523",
     "status": "completed"
    },
    "tags": []
   },
   "outputs": [
    {
     "data": {
      "text/markdown": [
       "I will calculate the sum of the first 14 odd prime numbers. Here is my thought process:\n",
       "\n",
       "1. **Identify Prime Numbers:** A prime number is a whole number greater than 1 that is only divisible by 1 and itself. \n",
       "2. **Odd Prime Numbers:** An odd prime number is a prime number that is not divisible by 2.\n",
       "3. **First 14 Odd Primes:**  I will need to identify the first 14 odd prime numbers.\n",
       "\n",
       "\n",
       "``` python\n",
       "primes = []\n",
       "i = 2\n",
       "while len(primes) < 14:\n",
       "    is_prime = True\n",
       "    for j in range(2, int(i ** 0.5) + 1):\n",
       "        if i % j == 0:\n",
       "            is_prime = False\n",
       "            break\n",
       "    if is_prime and i % 2 != 0:\n",
       "        primes.append(i)\n",
       "    i += 1\n",
       "print(primes)\n",
       "\n",
       "```\n",
       "```\n",
       "[3, 5, 7, 11, 13, 17, 19, 23, 29, 31, 37, 41, 43, 47]\n",
       "\n",
       "```\n",
       "The first 14 odd prime numbers are 3, 5, 7, 11, 13, 17, 19, 23, 29, 31, 37, 41, 43, and 47.\n",
       "\n",
       "Now I will calculate the sum of these prime numbers.\n",
       "\n",
       "\n",
       "``` python\n",
       "primes = [3, 5, 7, 11, 13, 17, 19, 23, 29, 31, 37, 41, 43, 47]\n",
       "sum_of_primes = sum(primes)\n",
       "print(sum_of_primes)\n",
       "\n",
       "```\n",
       "```\n",
       "326\n",
       "\n",
       "```\n",
       "The sum of the first 14 odd prime numbers is 326. \n"
      ],
      "text/plain": [
       "<IPython.core.display.Markdown object>"
      ]
     },
     "execution_count": 27,
     "metadata": {},
     "output_type": "execute_result"
    }
   ],
   "source": [
    "model = genai.GenerativeModel(\n",
    "    'gemini-1.5-flash-latest',\n",
    "    tools='code_execution')\n",
    "\n",
    "code_exec_prompt = \"\"\"\n",
    "Calculate the sum of the first 14 prime numbers. Only consider the odd primes, and make sure you get them all.\n",
    "\"\"\"\n",
    "\n",
    "response = model.generate_content(code_exec_prompt)\n",
    "Markdown(response.text)"
   ]
  },
  {
   "cell_type": "markdown",
   "id": "abaf61e4",
   "metadata": {
    "id": "ZspT1GSkjG6d",
    "papermill": {
     "duration": 0.021387,
     "end_time": "2024-11-11T13:44:11.596713",
     "exception": false,
     "start_time": "2024-11-11T13:44:11.575326",
     "status": "completed"
    },
    "tags": []
   },
   "source": [
    "While this looks like a single-part response, you can inspect the response to see the each of the steps: initial text, code generation, execution results, and final text summary."
   ]
  },
  {
   "cell_type": "code",
   "execution_count": 28,
   "id": "8accdaad",
   "metadata": {
    "execution": {
     "iopub.execute_input": "2024-11-11T13:44:11.641369Z",
     "iopub.status.busy": "2024-11-11T13:44:11.640930Z",
     "iopub.status.idle": "2024-11-11T13:44:11.647252Z",
     "shell.execute_reply": "2024-11-11T13:44:11.646232Z"
    },
    "id": "j4gQVzcRjRX-",
    "papermill": {
     "duration": 0.032348,
     "end_time": "2024-11-11T13:44:11.650467",
     "exception": false,
     "start_time": "2024-11-11T13:44:11.618119",
     "status": "completed"
    },
    "tags": []
   },
   "outputs": [
    {
     "name": "stdout",
     "output_type": "stream",
     "text": [
      "text: \"I will calculate the sum of the first 14 odd prime numbers. Here is my thought process:\\n\\n1. **Identify Prime Numbers:** A prime number is a whole number greater than 1 that is only divisible by 1 and itself. \\n2. **Odd Prime Numbers:** An odd prime number is a prime number that is not divisible by 2.\\n3. **First 14 Odd Primes:**  I will need to identify the first 14 odd prime numbers.\\n\\n\"\n",
      "\n",
      "-----\n",
      "executable_code {\n",
      "  language: PYTHON\n",
      "  code: \"\\nprimes = []\\ni = 2\\nwhile len(primes) < 14:\\n    is_prime = True\\n    for j in range(2, int(i ** 0.5) + 1):\\n        if i % j == 0:\\n            is_prime = False\\n            break\\n    if is_prime and i % 2 != 0:\\n        primes.append(i)\\n    i += 1\\nprint(primes)\\n\"\n",
      "}\n",
      "\n",
      "-----\n",
      "code_execution_result {\n",
      "  outcome: OUTCOME_OK\n",
      "  output: \"[3, 5, 7, 11, 13, 17, 19, 23, 29, 31, 37, 41, 43, 47]\\n\"\n",
      "}\n",
      "\n",
      "-----\n",
      "text: \"The first 14 odd prime numbers are 3, 5, 7, 11, 13, 17, 19, 23, 29, 31, 37, 41, 43, and 47.\\n\\nNow I will calculate the sum of these prime numbers.\\n\\n\"\n",
      "\n",
      "-----\n",
      "executable_code {\n",
      "  language: PYTHON\n",
      "  code: \"\\nprimes = [3, 5, 7, 11, 13, 17, 19, 23, 29, 31, 37, 41, 43, 47]\\nsum_of_primes = sum(primes)\\nprint(sum_of_primes)\\n\"\n",
      "}\n",
      "\n",
      "-----\n",
      "code_execution_result {\n",
      "  outcome: OUTCOME_OK\n",
      "  output: \"326\\n\"\n",
      "}\n",
      "\n",
      "-----\n",
      "text: \"The sum of the first 14 odd prime numbers is 326. \\n\"\n",
      "\n",
      "-----\n"
     ]
    }
   ],
   "source": [
    "for part in response.candidates[0].content.parts:\n",
    "  print(part)\n",
    "  print(\"-----\")"
   ]
  },
  {
   "cell_type": "markdown",
   "id": "cbbdb163",
   "metadata": {
    "id": "1gUX8QzCj4d5",
    "papermill": {
     "duration": 0.021121,
     "end_time": "2024-11-11T13:44:11.693379",
     "exception": false,
     "start_time": "2024-11-11T13:44:11.672258",
     "status": "completed"
    },
    "tags": []
   },
   "source": [
    "### Explaining code\n",
    "\n",
    "The Gemini family of models can explain code to you too.\n",
    "\n",
    "<table align=left>\n",
    "  <td>\n",
    "    <a target=\"_blank\" href=\"https://aistudio.google.com/prompts/1N7LGzWzCYieyOf_7bAG4plrmkpDNmUyb\"><img src=\"https://ai.google.dev/site-assets/images/marketing/home/icon-ais.png\" style=\"height: 24px\" height=24/> Open in AI Studio</a>\n",
    "  </td>\n",
    "</table>"
   ]
  },
  {
   "cell_type": "code",
   "execution_count": 29,
   "id": "cecfc5e8",
   "metadata": {
    "execution": {
     "iopub.execute_input": "2024-11-11T13:44:11.738067Z",
     "iopub.status.busy": "2024-11-11T13:44:11.737637Z",
     "iopub.status.idle": "2024-11-11T13:44:14.668349Z",
     "shell.execute_reply": "2024-11-11T13:44:14.667267Z"
    },
    "id": "7_jPMMoxkIEb",
    "papermill": {
     "duration": 2.95601,
     "end_time": "2024-11-11T13:44:14.670796",
     "exception": false,
     "start_time": "2024-11-11T13:44:11.714786",
     "status": "completed"
    },
    "tags": []
   },
   "outputs": [
    {
     "data": {
      "text/markdown": [
       "This file is a Bash script that provides a highly customizable Git prompt for your terminal. Here's a breakdown at a very high level:\n",
       "\n",
       "**What is it?**\n",
       "\n",
       "* **Git prompt customization:** It enhances your terminal's command prompt to display useful Git information like branch name, status (clean/dirty), and remote changes.\n",
       "* **Bash/Zsh compatibility:** It's written to work in both Bash and Zsh shells.\n",
       "* **Themes and colors:** It offers multiple themes and allows you to create custom themes for personalized color schemes.\n",
       "* **Remote status:** It can fetch remote changes automatically at regular intervals to keep your prompt updated.\n",
       "\n",
       "**Why would I use it?**\n",
       "\n",
       "* **Improved Git awareness:** Instantly see your Git repository's status without needing to run extra commands.\n",
       "* **Efficient workflow:** Quickly grasp the current branch and status, leading to more efficient Git operations.\n",
       "* **Customizable environment:** Tailor the prompt to your liking with different colors, themes, and formatting options.\n",
       "* **Enhanced visual feedback:** Gain a clearer understanding of your Git workflow with visual cues for branch names, status, and remote changes. \n",
       "\n",
       "**How it works (briefly):**\n",
       "\n",
       "1. **Loads color definitions and themes:** It reads color configurations and applies the chosen theme for your prompt.\n",
       "2. **Determines Git repository status:** It uses Git commands to gather information about the branch, status (clean/dirty), remote changes, etc.\n",
       "3. **Builds the prompt:** It constructs the prompt string, incorporating the Git status information and your chosen theme and formatting.\n",
       "4. **Integrates with your shell:** It modifies your shell's `PS1` (prompt string) variable to display the customized Git prompt.\n",
       "\n",
       "**In essence, this Bash script makes your Git workflow more visual and informative by embedding key Git status details directly into your command prompt.** \n"
      ],
      "text/plain": [
       "<IPython.core.display.Markdown object>"
      ]
     },
     "execution_count": 29,
     "metadata": {},
     "output_type": "execute_result"
    }
   ],
   "source": [
    "file_contents = !curl https://raw.githubusercontent.com/magicmonty/bash-git-prompt/refs/heads/master/gitprompt.sh\n",
    "\n",
    "explain_prompt = f\"\"\"\n",
    "Please explain what this file does at a very high level. What is it, and why would I use it?\n",
    "\n",
    "```\n",
    "{file_contents}\n",
    "```\n",
    "\"\"\"\n",
    "\n",
    "model = genai.GenerativeModel('gemini-1.5-flash-latest')\n",
    "\n",
    "response = model.generate_content(explain_prompt)\n",
    "Markdown(response.text)"
   ]
  },
  {
   "cell_type": "markdown",
   "id": "ba892ac8",
   "metadata": {
    "id": "2a8266d97ce5",
    "papermill": {
     "duration": 0.021492,
     "end_time": "2024-11-11T13:44:14.714341",
     "exception": false,
     "start_time": "2024-11-11T13:44:14.692849",
     "status": "completed"
    },
    "tags": []
   },
   "source": [
    "## Learn more\n",
    "\n",
    "To learn more about prompting in depth:\n",
    "\n",
    "* Check out the whitepaper issued with today's content,\n",
    "* Try out the apps listed at the top of this notebook ([TextFX](https://textfx.withgoogle.com/), [SQL Talk](https://sql-talk-r5gdynozbq-uc.a.run.app/) and [NotebookLM](https://notebooklm.google/)),\n",
    "* Read the [Introduction to Prompting](https://ai.google.dev/gemini-api/docs/prompting-intro) from the Gemini API docs,\n",
    "* Explore the Gemini API's [prompt gallery](https://ai.google.dev/gemini-api/prompts) and try them out in AI Studio,\n",
    "* Check out the Gemini API cookbook for [inspirational examples](https://github.com/google-gemini/cookbook/blob/main/examples/) and [educational quickstarts](https://github.com/google-gemini/cookbook/blob/main/quickstarts/).\n",
    "\n",
    "And please share anything exciting you have tried in the Discord!"
   ]
  }
 ],
 "metadata": {
  "colab": {
   "name": "day-1-prompting.ipynb",
   "toc_visible": true
  },
  "kaggle": {
   "accelerator": "none",
   "dataSources": [],
   "dockerImageVersionId": 30786,
   "isGpuEnabled": false,
   "isInternetEnabled": true,
   "language": "python",
   "sourceType": "notebook"
  },
  "kernelspec": {
   "display_name": "Python 3",
   "language": "python",
   "name": "python3"
  },
  "language_info": {
   "codemirror_mode": {
    "name": "ipython",
    "version": 3
   },
   "file_extension": ".py",
   "mimetype": "text/x-python",
   "name": "python",
   "nbconvert_exporter": "python",
   "pygments_lexer": "ipython3",
   "version": "3.10.14"
  },
  "papermill": {
   "default_parameters": {},
   "duration": 226.101012,
   "end_time": "2024-11-11T13:44:15.257609",
   "environment_variables": {},
   "exception": null,
   "input_path": "__notebook__.ipynb",
   "output_path": "__notebook__.ipynb",
   "parameters": {},
   "start_time": "2024-11-11T13:40:29.156597",
   "version": "2.6.0"
  }
 },
 "nbformat": 4,
 "nbformat_minor": 5
}
